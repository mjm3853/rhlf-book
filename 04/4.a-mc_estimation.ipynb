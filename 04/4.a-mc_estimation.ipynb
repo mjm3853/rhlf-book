{
 "cells": [
  {
   "cell_type": "markdown",
   "metadata": {},
   "source": [
    "# Monte Carlo(MC) Estimation\n",
    "\n",
    "We will be using MC estimation on sample 4x4 grid world  \n"
   ]
  },
  {
   "cell_type": "markdown",
   "metadata": {},
   "source": [
    "### Monte Carlo Prediction for Estimation (\"first-visit\")\n",
    "\n",
    "Monte Carlo Prediction is carried out by sampling the trajectories over many episodes and using the rewards seen in samples as estimate for state values. The backup digram is given below. Pseudo code for the algorithm is given in Fig 4-2 in the text.\n"
   ]
  },
  {
   "cell_type": "markdown",
   "metadata": {},
   "source": [
    "#### Running in Colab/Kaggle\n",
    "\n",
    "If you are running this on Colab, please uncomment below cells and run this to install required dependencies."
   ]
  },
  {
   "cell_type": "code",
   "execution_count": null,
   "metadata": {},
   "outputs": [],
   "source": [
    "## Uncomment and execute this cell to install all the the dependencies if running in Google Colab or Kaggle\n",
    "\n",
    "## Uncomment and run for Colab\n",
    "# !pip install gymnasium==0.29.1 pygame==2.3.0 -q\n",
    "# !git clone https://github.com/nsanghi/drl-2ed\n",
    "# %cd /content/drl-2ed \n",
    "# %cd chapter4\n",
    "\n",
    "\n",
    "## Uncomment and run for Kaggle\n",
    "# !pip install gymnasium==0.29.1 pygame==2.3.0 -q\n",
    "# !git clone https://github.com/nsanghi/drl-2ed\n",
    "# %cd /content/drl-2ed \n",
    "# %cd chapter4"
   ]
  },
  {
   "cell_type": "code",
   "execution_count": null,
   "metadata": {},
   "outputs": [],
   "source": [
    "# Initial imports and environment setup\n",
    "import numpy as np\n",
    "import sys\n",
    "import seaborn as sns\n",
    "import matplotlib.pyplot as plt\n",
    "sns.set_theme()\n",
    "\n",
    "# create grid world environment\n",
    "from gridworld import GridWorldEnv\n",
    "size = 4\n",
    "env = GridWorldEnv(size=size)"
   ]
  },
  {
   "cell_type": "code",
   "execution_count": 1,
   "metadata": {},
   "outputs": [],
   "source": [
    "import logging\n",
    "\n",
    "# Define the actions\n",
    "UP = 0\n",
    "RIGHT = 1\n",
    "DOWN = 2\n",
    "LEFT = 3\n",
    "action_keys = {UP: 'UP', RIGHT: 'RIGHT', DOWN: 'DOWN', LEFT: 'LEFT'}\n",
    "\n",
    "# Set up logging\n",
    "logging.basicConfig(level=logging.INFO, format='%(message)s')\n",
    "\n",
    "# MC Policy Evaluation\n",
    "def mc_policy_eval(policy, env, discount_factor=1.0, episode_count=100):\n",
    "    \"\"\"\n",
    "    Evaluate a policy given an environment.\n",
    "\n",
    "    Args:\n",
    "        policy: [S, A]shaped matrix representing the policy. Random in our case\n",
    "        env: GridWorld env. In model free setup you have no access \n",
    "             transition dynamics of the environment.\n",
    "             use step(a) to take an action and receive a tuple of (\n",
    "             s', r, done, terminated, info)\n",
    "             env.nS is number of states in the environment.\n",
    "             env.nA is number of actions in the environment.\n",
    "        episode_count: Number of episodes:\n",
    "        discount_factor: Gamma discount factor.\n",
    "\n",
    "    Returns:\n",
    "        Vector of length env.nS representing the value function.\n",
    "    \"\"\"\n",
    "    # Start with (all 0) state value array and a visit count of zero\n",
    "    V = np.zeros(env.nS)\n",
    "    N = np.zeros(env.nS)\n",
    "    i = 0\n",
    "\n",
    "    if episode_count <= 1000:\n",
    "        logging.info(\"Starting MC Policy Evaluation\")\n",
    "\n",
    "    # run multiple episodes\n",
    "    while i < episode_count:\n",
    "        if episode_count <= 1000:\n",
    "            logging.info(f\"Episode {i+1}/{episode_count}\")\n",
    "\n",
    "        # collect samples for one episode\n",
    "        episode_states = []\n",
    "        episode_returns = []\n",
    "        state, _ = env.reset()\n",
    "        episode_states.append(state)\n",
    "        \n",
    "        if episode_count <= 1000:\n",
    "            logging.info(f\"Initial state: {state}\")\n",
    "\n",
    "        while True:\n",
    "            action = np.random.choice(env.nA, p=policy[state])\n",
    "            (state, reward, done, _, _) = env.step(action)\n",
    "            episode_returns.append(reward)\n",
    "            \n",
    "            if episode_count <= 1000:\n",
    "                logging.info(f\"Action: {action_keys[action]}, Reward: {reward}, New State: {state}, Done: {done}\")\n",
    "\n",
    "            if not done:\n",
    "                episode_states.append(state)\n",
    "            else:\n",
    "                break\n",
    "\n",
    "        # update state values\n",
    "        G = 0\n",
    "        count = len(episode_states)\n",
    "        for t in range(count-1, -1, -1):\n",
    "            s, r = episode_states[t], episode_returns[t]\n",
    "            G = discount_factor * G + r\n",
    "            if s not in episode_states[:t]:\n",
    "                N[s] += 1\n",
    "                V[s] = V[s] + 1/N[s] * (G-V[s])\n",
    "                \n",
    "                if episode_count <= 1000:\n",
    "                    logging.info(f\"Updated value for state {s}: {V[s]}\")\n",
    "\n",
    "        i = i+1\n",
    "\n",
    "    if episode_count <= 1000:\n",
    "        logging.info(\"MC Policy Evaluation completed\")\n",
    "        \n",
    "    return np.array(V)"
   ]
  },
  {
   "cell_type": "code",
   "execution_count": 2,
   "metadata": {},
   "outputs": [],
   "source": [
    "# Custom print to show state values inside the grid\n",
    "def grid_print(V, k=None):\n",
    "    ax = sns.heatmap(V.reshape(env.shape),\n",
    "                     annot=True, square=True,\n",
    "                     cbar=False, cmap='Blues',\n",
    "                     xticklabels=False, yticklabels=False)\n",
    "\n",
    "    if k:\n",
    "        ax.set(title=\"K = {0}\".format(k))\n",
    "    plt.show()"
   ]
  },
  {
   "cell_type": "code",
   "execution_count": 3,
   "metadata": {},
   "outputs": [
    {
     "ename": "NameError",
     "evalue": "name 'np' is not defined",
     "output_type": "error",
     "traceback": [
      "\u001b[0;31m---------------------------------------------------------------------------\u001b[0m",
      "\u001b[0;31mNameError\u001b[0m                                 Traceback (most recent call last)",
      "Cell \u001b[0;32mIn[3], line 2\u001b[0m\n\u001b[1;32m      1\u001b[0m \u001b[38;5;66;03m# Create a random policy\u001b[39;00m\n\u001b[0;32m----> 2\u001b[0m random_policy \u001b[38;5;241m=\u001b[39m \u001b[43mnp\u001b[49m\u001b[38;5;241m.\u001b[39mones([env\u001b[38;5;241m.\u001b[39mnS, env\u001b[38;5;241m.\u001b[39mnA]) \u001b[38;5;241m/\u001b[39m env\u001b[38;5;241m.\u001b[39mnA\n\u001b[1;32m      4\u001b[0m \u001b[38;5;66;03m# run mc policy prediction for 100 episodes for random policy\u001b[39;00m\n\u001b[1;32m      5\u001b[0m V_pi \u001b[38;5;241m=\u001b[39m mc_policy_eval(\n\u001b[1;32m      6\u001b[0m     random_policy,\n\u001b[1;32m      7\u001b[0m     env,\n\u001b[1;32m      8\u001b[0m     discount_factor\u001b[38;5;241m=\u001b[39m\u001b[38;5;241m1.0\u001b[39m,\n\u001b[1;32m      9\u001b[0m     episode_count\u001b[38;5;241m=\u001b[39m\u001b[38;5;241m100\u001b[39m)\n",
      "\u001b[0;31mNameError\u001b[0m: name 'np' is not defined"
     ]
    }
   ],
   "source": [
    "# Create a random policy\n",
    "random_policy = np.ones([env.nS, env.nA]) / env.nA\n",
    "\n",
    "# run mc policy prediction for 100 episodes for random policy\n",
    "V_pi = mc_policy_eval(\n",
    "    random_policy,\n",
    "    env,\n",
    "    discount_factor=1.0,\n",
    "    episode_count=100)\n",
    "\n",
    "# Print policy\n",
    "grid_print(V_pi.reshape(env.shape))"
   ]
  },
  {
   "cell_type": "code",
   "execution_count": 4,
   "metadata": {},
   "outputs": [
    {
     "ename": "NameError",
     "evalue": "name 'random_policy' is not defined",
     "output_type": "error",
     "traceback": [
      "\u001b[0;31m---------------------------------------------------------------------------\u001b[0m",
      "\u001b[0;31mNameError\u001b[0m                                 Traceback (most recent call last)",
      "Cell \u001b[0;32mIn[4], line 3\u001b[0m\n\u001b[1;32m      1\u001b[0m \u001b[38;5;66;03m# run mc policy prediction for 10000 episodes for random policy\u001b[39;00m\n\u001b[1;32m      2\u001b[0m V_pi \u001b[38;5;241m=\u001b[39m mc_policy_eval(\n\u001b[0;32m----> 3\u001b[0m     \u001b[43mrandom_policy\u001b[49m, env,\n\u001b[1;32m      4\u001b[0m     discount_factor\u001b[38;5;241m=\u001b[39m\u001b[38;5;241m1.0\u001b[39m,\n\u001b[1;32m      5\u001b[0m     episode_count\u001b[38;5;241m=\u001b[39m\u001b[38;5;241m10000\u001b[39m)\n\u001b[1;32m      7\u001b[0m \u001b[38;5;66;03m# Print policy\u001b[39;00m\n\u001b[1;32m      8\u001b[0m grid_print(V_pi\u001b[38;5;241m.\u001b[39mreshape(env\u001b[38;5;241m.\u001b[39mshape))\n",
      "\u001b[0;31mNameError\u001b[0m: name 'random_policy' is not defined"
     ]
    }
   ],
   "source": [
    "# run mc policy prediction for 10000 episodes for random policy\n",
    "V_pi = mc_policy_eval(\n",
    "    random_policy, env,\n",
    "    discount_factor=1.0,\n",
    "    episode_count=10000)\n",
    "\n",
    "# Print policy\n",
    "grid_print(V_pi.reshape(env.shape))"
   ]
  },
  {
   "cell_type": "code",
   "execution_count": null,
   "metadata": {},
   "outputs": [
    {
     "data": {
      "image/png": "[encoded data removed]",
      "text/plain": [
       "<Figure size 640x480 with 1 Axes>"
      ]
     },
     "metadata": {},
     "output_type": "display_data"
    }
   ],
   "source": [
    "# run mc policy prediction for 100000 episodes for random policy\n",
    "V_pi = mc_policy_eval(\n",
    "    random_policy,\n",
    "    env,\n",
    "    discount_factor=1.0,\n",
    "    episode_count=100000)\n",
    "\n",
    "# Print policy\n",
    "grid_print(V_pi.reshape(env.shape))"
   ]
  },
  {
   "cell_type": "markdown",
   "metadata": {},
   "source": [
    "### Conclusion\n",
    "\n",
    "We see that state values do not converge very well for 100 episode simulation. However, with 10,000 episode simulation the values have come close to those we saw in `3.a-policy-evaluation.ipynb` where policy evaluation using DP was carried out. "
   ]
  }
 ],
 "metadata": {
  "kernelspec": {
   "display_name": ".venv",
   "language": "python",
   "name": "python3"
  },
  "language_info": {
   "codemirror_mode": {
    "name": "ipython",
    "version": 3
   },
   "file_extension": ".py",
   "mimetype": "text/x-python",
   "name": "python",
   "nbconvert_exporter": "python",
   "pygments_lexer": "ipython3",
   "version": "3.10.13"
  }
 },
 "nbformat": 4,
 "nbformat_minor": 4
}
