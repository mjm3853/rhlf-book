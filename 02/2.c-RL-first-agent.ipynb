{
 "cells": [
  {
   "cell_type": "markdown",
   "metadata": {
    "id": "hyyN-2qyK_T2"
   },
   "source": [
    "# Train your First Agent\n",
    "\n",
    "In this Notebook we will train the 2nd agent. yet another environment, train the agent and then share the result using Huggingface ecosystem. We will be using following libraries:\n",
    "\n",
    "1. `gymnasium` - which we saw in Listing 2.1.  [gymnasium](https://gymnasium.farama.org/) is a standard API for reinforcement learning, and a diverse collection of reference environments.\n",
    "2. While, to gain understanding, we will be writing our own implementation code for lots of algorithms taught in the book, for actual work it makes sense to use standard libraries for all such RL tasks. One such library is [`Stable Baselines3 SB3`](https://stable-baselines3.readthedocs.io/en/master/) which is a set of reliable implementations of reinforcement learning algorithms in PyTorch. Accompanying this there is another library[`RL Baseline Zoo`](https://github.com/DLR-RM/rl-baselines3-zoo) which provides a collection of pre-trained agents, scripts for training, evaluating agents, tuning hyperparameters, plotting results and recording.\n",
    "3. We will also be using Huggingface to host the trained agents and be able to share the results with others. The book walks you through details of what is Huggingface and what all is available under huggingface ecosystem. In this book, we will be using a subset of the capabilities in huggingface. For now we will be using it to upload trained agents and demo videos so that the same can be shared with others. We will be using [`Huggingface sb3`](https://github.com/huggingface/huggingface_sb3) which is a library to load and upload Stable-baselines3.  models from the Hub. Before we can use it, we need a login to be created on [`Huggingface`](https://huggingface.co/join). You can follow the link to create an account."
   ]
  },
  {
   "cell_type": "markdown",
   "metadata": {
    "id": "gpyVcmMPIMJZ"
   },
   "source": [
    "#### Running in Colab/Kaggle\n",
    "\n",
    "If you are running this on Colab or Kaggle, please uncomment below cell and run this to install required dependencies."
   ]
  },
  {
   "cell_type": "code",
   "execution_count": 1,
   "metadata": {},
   "outputs": [],
   "source": [
    "## uncomment and execute this cell to install all the the dependencies if running in Google Colab or Kaggle\n",
    "\n",
    "# !apt-get update \n",
    "# !apt-get install -y swig cmake ffmpeg freeglut3-dev xvfb"
   ]
  },
  {
   "cell_type": "code",
   "execution_count": 1,
   "metadata": {
    "id": "gWskDE2c9WoN"
   },
   "outputs": [
    {
     "name": "stdout",
     "output_type": "stream",
     "text": [
      "Requirement already satisfied: ipywidgets in /Users/mjm/.asdf/installs/python/3.10.13/lib/python3.10/site-packages (8.1.5)\n",
      "Requirement already satisfied: comm>=0.1.3 in /Users/mjm/.asdf/installs/python/3.10.13/lib/python3.10/site-packages (from ipywidgets) (0.2.2)\n",
      "Requirement already satisfied: ipython>=6.1.0 in /Users/mjm/.asdf/installs/python/3.10.13/lib/python3.10/site-packages (from ipywidgets) (8.32.0)\n",
      "Requirement already satisfied: traitlets>=4.3.1 in /Users/mjm/.asdf/installs/python/3.10.13/lib/python3.10/site-packages (from ipywidgets) (5.14.3)\n",
      "Requirement already satisfied: widgetsnbextension~=4.0.12 in /Users/mjm/.asdf/installs/python/3.10.13/lib/python3.10/site-packages (from ipywidgets) (4.0.13)\n",
      "Requirement already satisfied: jupyterlab-widgets~=3.0.12 in /Users/mjm/.asdf/installs/python/3.10.13/lib/python3.10/site-packages (from ipywidgets) (3.0.13)\n",
      "Requirement already satisfied: decorator in /Users/mjm/.asdf/installs/python/3.10.13/lib/python3.10/site-packages (from ipython>=6.1.0->ipywidgets) (5.1.1)\n",
      "Requirement already satisfied: exceptiongroup in /Users/mjm/.asdf/installs/python/3.10.13/lib/python3.10/site-packages (from ipython>=6.1.0->ipywidgets) (1.2.2)\n",
      "Requirement already satisfied: jedi>=0.16 in /Users/mjm/.asdf/installs/python/3.10.13/lib/python3.10/site-packages (from ipython>=6.1.0->ipywidgets) (0.19.2)\n",
      "Requirement already satisfied: matplotlib-inline in /Users/mjm/.asdf/installs/python/3.10.13/lib/python3.10/site-packages (from ipython>=6.1.0->ipywidgets) (0.1.7)\n",
      "Requirement already satisfied: pexpect>4.3 in /Users/mjm/.asdf/installs/python/3.10.13/lib/python3.10/site-packages (from ipython>=6.1.0->ipywidgets) (4.9.0)\n",
      "Requirement already satisfied: prompt_toolkit<3.1.0,>=3.0.41 in /Users/mjm/.asdf/installs/python/3.10.13/lib/python3.10/site-packages (from ipython>=6.1.0->ipywidgets) (3.0.50)\n",
      "Requirement already satisfied: pygments>=2.4.0 in /Users/mjm/.asdf/installs/python/3.10.13/lib/python3.10/site-packages (from ipython>=6.1.0->ipywidgets) (2.19.1)\n",
      "Requirement already satisfied: stack_data in /Users/mjm/.asdf/installs/python/3.10.13/lib/python3.10/site-packages (from ipython>=6.1.0->ipywidgets) (0.6.3)\n",
      "Requirement already satisfied: typing_extensions>=4.6 in /Users/mjm/.asdf/installs/python/3.10.13/lib/python3.10/site-packages (from ipython>=6.1.0->ipywidgets) (4.9.0)\n",
      "Requirement already satisfied: parso<0.9.0,>=0.8.4 in /Users/mjm/.asdf/installs/python/3.10.13/lib/python3.10/site-packages (from jedi>=0.16->ipython>=6.1.0->ipywidgets) (0.8.4)\n",
      "Requirement already satisfied: ptyprocess>=0.5 in /Users/mjm/.asdf/installs/python/3.10.13/lib/python3.10/site-packages (from pexpect>4.3->ipython>=6.1.0->ipywidgets) (0.7.0)\n",
      "Requirement already satisfied: wcwidth in /Users/mjm/.asdf/installs/python/3.10.13/lib/python3.10/site-packages (from prompt_toolkit<3.1.0,>=3.0.41->ipython>=6.1.0->ipywidgets) (0.2.13)\n",
      "Requirement already satisfied: executing>=1.2.0 in /Users/mjm/.asdf/installs/python/3.10.13/lib/python3.10/site-packages (from stack_data->ipython>=6.1.0->ipywidgets) (2.2.0)\n",
      "Requirement already satisfied: asttokens>=2.1.0 in /Users/mjm/.asdf/installs/python/3.10.13/lib/python3.10/site-packages (from stack_data->ipython>=6.1.0->ipywidgets) (3.0.0)\n",
      "Requirement already satisfied: pure-eval in /Users/mjm/.asdf/installs/python/3.10.13/lib/python3.10/site-packages (from stack_data->ipython>=6.1.0->ipywidgets) (0.2.3)\n",
      "\n",
      "\u001b[1m[\u001b[0m\u001b[34;49mnotice\u001b[0m\u001b[1;39;49m]\u001b[0m\u001b[39;49m A new release of pip is available: \u001b[0m\u001b[31;49m25.0\u001b[0m\u001b[39;49m -> \u001b[0m\u001b[32;49m25.0.1\u001b[0m\n",
      "\u001b[1m[\u001b[0m\u001b[34;49mnotice\u001b[0m\u001b[1;39;49m]\u001b[0m\u001b[39;49m To update, run: \u001b[0m\u001b[32;49mpip3 install --upgrade pip\u001b[0m\n",
      "Reshimming asdf python...\n"
     ]
    }
   ],
   "source": [
    "## uncomment and execute this cell to install all the the dependencies if running in Google Colab or Kaggle\n",
    "\n",
    "# !pip install \"box2d-py==2.3.8\"\n",
    "# !pip install \"stable-baselines3[extra]==2.1.0\"\n",
    "# !pip install \"huggingface_sb3>=3.0\"\n",
    "# !pip install \"moviepy==1.0.3\"\n",
    "\n",
    "!pip install -U ipywidgets"
   ]
  },
  {
   "cell_type": "markdown",
   "metadata": {
    "id": "FtY8FhliLsGm"
   },
   "source": [
    "## Import policy, RL agent\n",
    "\n",
    "We will using DQN (Deep Q Network) policy to train the agent. For now we will treat this as a black box, diving deeper into it in a subsequent chapter."
   ]
  },
  {
   "cell_type": "code",
   "execution_count": 2,
   "metadata": {
    "colab": {
     "base_uri": "https://localhost:8080/"
    },
    "id": "BIedd7Pz9sOs",
    "outputId": "a0082d96-8669-4b40-d9ce-6cffcc9d3f96"
   },
   "outputs": [],
   "source": [
    "import gymnasium as gym\n",
    "\n",
    "from stable_baselines3 import DQN"
   ]
  },
  {
   "cell_type": "markdown",
   "metadata": {
    "id": "RapkYvTXL7Cd"
   },
   "source": [
    "## Create the Gym env and instantiate the agent\n",
    "\n",
    "For this example, we will use Lunar Lander environment.\n",
    "\n",
    "\"Landing outside landing pad is possible. Fuel is infinite, so an agent can learn to fly and then land on its first attempt. Four discrete actions available: do nothing, fire left orientation engine, fire main engine, fire right orientation engine. \"\n",
    "\n",
    "[Lunar Lander environment](https://gymnasium.farama.org/environments/box2d/lunar_lander/)\n",
    "\n",
    "![Lunar Lander](https://gymnasium.farama.org/_images/lunar_lander.gif)\n",
    "\n",
    "\n",
    "We chose the MlpPolicy because input of Lunar Lander is a feature vector, not images. The type of action to use (discrete/continuous) will be automatically deduced from the environment action space\n",
    "\n"
   ]
  },
  {
   "cell_type": "code",
   "execution_count": 3,
   "metadata": {
    "colab": {
     "base_uri": "https://localhost:8080/"
    },
    "id": "pUWGZp3i9wyf",
    "outputId": "af792e1a-17cb-4048-b31d-0fad4426f626"
   },
   "outputs": [
    {
     "name": "stdout",
     "output_type": "stream",
     "text": [
      "Using mps device\n",
      "Creating environment from the given name 'LunarLander-v3'\n",
      "Wrapping the env with a `Monitor` wrapper\n",
      "Wrapping the env in a DummyVecEnv.\n"
     ]
    }
   ],
   "source": [
    "model = DQN(\n",
    "    \"MlpPolicy\",\n",
    "    \"LunarLander-v3\",\n",
    "    verbose=1,\n",
    "    exploration_final_eps=0.1,\n",
    "    target_update_interval=250,\n",
    "    device=\"mps\"\n",
    ")"
   ]
  },
  {
   "cell_type": "code",
   "execution_count": 4,
   "metadata": {},
   "outputs": [
    {
     "name": "stdout",
     "output_type": "stream",
     "text": [
      "Using the MPS backend for GPU acceleration\n"
     ]
    }
   ],
   "source": [
    "import torch\n",
    "\n",
    "if torch.backends.mps.is_available():\n",
    "    device = torch.device(\"mps\")\n",
    "    print(\"Using the MPS backend for GPU acceleration\")\n",
    "else:\n",
    "    device = torch.device(\"cpu\")\n",
    "    print(\"MPS not available, falling back to CPU\")"
   ]
  },
  {
   "cell_type": "markdown",
   "metadata": {
    "id": "4efFdrQ7MBvl"
   },
   "source": [
    "We load a helper function to evaluate the agent:"
   ]
  },
  {
   "cell_type": "code",
   "execution_count": 5,
   "metadata": {
    "id": "PeaVBGuJwK97"
   },
   "outputs": [],
   "source": [
    "from stable_baselines3.common.evaluation import evaluate_policy"
   ]
  },
  {
   "cell_type": "markdown",
   "metadata": {
    "id": "zjEVOIY8NVeK"
   },
   "source": [
    "Let's evaluate the un-trained agent, this should be a random agent."
   ]
  },
  {
   "cell_type": "code",
   "execution_count": 6,
   "metadata": {
    "colab": {
     "base_uri": "https://localhost:8080/"
    },
    "id": "xDHLMA6NFk95",
    "outputId": "0605d334-37f8-4ea6-dbb8-5179bfeb28dc"
   },
   "outputs": [
    {
     "name": "stderr",
     "output_type": "stream",
     "text": [
      "/Users/mjm/projects/rhlf-book/.venv/lib/python3.10/site-packages/stable_baselines3/common/evaluation.py:67: UserWarning: Evaluation environment is not wrapped with a ``Monitor`` wrapper. This may result in reporting modified episode lengths and rewards, if other wrappers happen to modify these. Consider wrapping environment first with ``Monitor`` wrapper.\n",
      "  warnings.warn(\n"
     ]
    },
    {
     "name": "stdout",
     "output_type": "stream",
     "text": [
      "mean_reward=-103.70 +/- 53.27975609031567\n"
     ]
    }
   ],
   "source": [
    "# Separate env for evaluation\n",
    "eval_env = gym.make(\"LunarLander-v3\")\n",
    "\n",
    "# Random Agent, before training\n",
    "mean_reward, std_reward = evaluate_policy(\n",
    "    model,\n",
    "    eval_env,\n",
    "    n_eval_episodes=10,\n",
    "    deterministic=True,\n",
    ")\n",
    "\n",
    "print(f\"mean_reward={mean_reward:.2f} +/- {std_reward}\")"
   ]
  },
  {
   "cell_type": "markdown",
   "metadata": {
    "id": "r5UoXTZPNdFE"
   },
   "source": [
    "## Train the agent and save it\n",
    "\n",
    "Warning: this may take a while"
   ]
  },
  {
   "cell_type": "code",
   "execution_count": 7,
   "metadata": {
    "colab": {
     "base_uri": "https://localhost:8080/",
     "height": 241,
     "referenced_widgets": [
      "1489b32e36794bb0ad04f8250cba921a",
      "060c33f79563429983f38920ea56501d"
     ]
    },
    "id": "e4cfSXIB-pTF",
    "outputId": "fc800a57-0740-47d2-f63a-6fd43df5c0f6"
   },
   "outputs": [
    {
     "data": {
      "application/vnd.jupyter.widget-view+json": {
       "model_id": "02d4b67e6e164015b0f15fe5e01ec86f",
       "version_major": 2,
       "version_minor": 0
      },
      "text/plain": [
       "Output()"
      ]
     },
     "metadata": {},
     "output_type": "display_data"
    },
    {
     "data": {
      "text/html": [
       "<pre style=\"white-space:pre;overflow-x:auto;line-height:normal;font-family:Menlo,'DejaVu Sans Mono',consolas,'Courier New',monospace\"></pre>\n"
      ],
      "text/plain": []
     },
     "metadata": {},
     "output_type": "display_data"
    }
   ],
   "source": [
    "# Train the agent\n",
    "model.learn(total_timesteps=int(1e5), log_interval=400, progress_bar=True)\n",
    "# Save the agent\n",
    "model.save(\"dqn_lunar\")\n",
    "del model  # delete trained model to demonstrate loading"
   ]
  },
  {
   "cell_type": "markdown",
   "metadata": {
    "id": "T31dZJYNrJwF"
   },
   "source": [
    "## Load the trained agent"
   ]
  },
  {
   "cell_type": "code",
   "execution_count": 8,
   "metadata": {
    "id": "K1ExgtyZrIA6"
   },
   "outputs": [],
   "source": [
    "model = DQN.load(\"dqn_lunar\")"
   ]
  },
  {
   "cell_type": "code",
   "execution_count": 9,
   "metadata": {
    "colab": {
     "base_uri": "https://localhost:8080/"
    },
    "id": "ygl_gVmV_QP7",
    "outputId": "a9e4e267-0b20-40c0-83c7-73c7de84856c"
   },
   "outputs": [
    {
     "name": "stdout",
     "output_type": "stream",
     "text": [
      "mean_reward=-109.92 +/- 45.115182744300085\n"
     ]
    }
   ],
   "source": [
    "# Evaluate the trained agent\n",
    "mean_reward, std_reward = evaluate_policy(model, eval_env, n_eval_episodes=10, deterministic=True)\n",
    "\n",
    "print(f\"mean_reward={mean_reward:.2f} +/- {std_reward}\")"
   ]
  },
  {
   "cell_type": "markdown",
   "metadata": {
    "id": "AdlkHUBVIMJf"
   },
   "source": [
    "## Record the video of trained agent"
   ]
  },
  {
   "cell_type": "code",
   "execution_count": 10,
   "metadata": {
    "colab": {
     "base_uri": "https://localhost:8080/"
    },
    "id": "aQDZI5VEGnUq",
    "outputId": "edc264a2-da02-4604-8c3c-984e15865e84"
   },
   "outputs": [
    {
     "name": "stdout",
     "output_type": "stream",
     "text": [
      "Saving video to /Users/mjm/projects/rhlf-book/02/logs/videos/random-agent-LunarLander-v3-step-0-to-step-1000.mp4\n",
      "MoviePy - Building video /Users/mjm/projects/rhlf-book/02/logs/videos/random-agent-LunarLander-v3-step-0-to-step-1000.mp4.\n",
      "MoviePy - Writing video /Users/mjm/projects/rhlf-book/02/logs/videos/random-agent-LunarLander-v3-step-0-to-step-1000.mp4\n",
      "\n"
     ]
    },
    {
     "name": "stderr",
     "output_type": "stream",
     "text": [
      "                                                                           \r"
     ]
    },
    {
     "name": "stdout",
     "output_type": "stream",
     "text": [
      "MoviePy - Done !\n",
      "MoviePy - video ready /Users/mjm/projects/rhlf-book/02/logs/videos/random-agent-LunarLander-v3-step-0-to-step-1000.mp4\n"
     ]
    }
   ],
   "source": [
    "import gymnasium as gym\n",
    "from stable_baselines3.common.vec_env import VecVideoRecorder, DummyVecEnv\n",
    "\n",
    "env_id = \"LunarLander-v3\"\n",
    "video_folder = \"logs/videos/\"\n",
    "video_length = 1000\n",
    "\n",
    "vec_env = DummyVecEnv([lambda: gym.make(env_id, render_mode=\"rgb_array\")])\n",
    "\n",
    "obs = vec_env.reset()\n",
    "\n",
    "# Record the video starting at the first step\n",
    "vec_env = VecVideoRecorder(vec_env, video_folder,\n",
    "                       record_video_trigger=lambda x: x == 0, video_length=video_length,\n",
    "                       name_prefix=f\"random-agent-{env_id}\")\n",
    "\n",
    "vec_env.reset()\n",
    "for _ in range(video_length + 1):\n",
    "  action, _state = model.predict(obs)\n",
    "  obs, _, _, _ = vec_env.step(action)\n",
    "# Save the video\n",
    "vec_env.close()"
   ]
  },
  {
   "cell_type": "code",
   "execution_count": 11,
   "metadata": {
    "colab": {
     "base_uri": "https://localhost:8080/",
     "height": 288
    },
    "id": "QdFnRIDYDNzI",
    "outputId": "e68d7e93-7eba-410a-b7d5-8402b7d8bc17"
   },
   "outputs": [
    {
     "data": {
      "text/html": [
       "\n",
       "<video width=400 controls>\n",
       "      <source src=\"data:video/mp4;base64,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\" type=\"video/mp4\">\n",
       "</video>\n"
      ],
      "text/plain": [
       "<IPython.core.display.HTML object>"
      ]
     },
     "execution_count": 11,
     "metadata": {},
     "output_type": "execute_result"
    }
   ],
   "source": [
    "from IPython.display import HTML\n",
    "from base64 import b64encode\n",
    "\n",
    "mp4 = open('./logs/videos/random-agent-LunarLander-v3-step-0-to-step-1000.mp4','rb').read()\n",
    "data_url = \"data:video/mp4;base64,\" + b64encode(mp4).decode()\n",
    "HTML(\"\"\"\n",
    "<video width=400 controls>\n",
    "      <source src=\"%s\" type=\"video/mp4\">\n",
    "</video>\n",
    "\"\"\" % data_url)"
   ]
  },
  {
   "cell_type": "markdown",
   "metadata": {
    "id": "hHWlV9U-EBar",
    "outputId": "d908af0f-abf4-45e4-fddb-661e1e636832"
   },
   "source": [
    "## Upload the Video to Huggingface\n",
    "\n",
    "We will need to login into huggingface using token which will allow this notebook to be able to upload files into your huggingface account. You can create/find huggingface token at https://huggingface.co/settings/tokens. This token will need to be inputed when we run `notebook_login()` below."
   ]
  },
  {
   "cell_type": "code",
   "execution_count": 16,
   "metadata": {
    "colab": {
     "base_uri": "https://localhost:8080/",
     "height": 162,
     "referenced_widgets": [
      "faedbb1b2bda4fdaaae073b2328b6662",
      "baea74c5772849778d1d06bb3edc275e",
      "cbb8e24978294ea0a9ee3e3e637d4c6f",
      "65ac3f1c152b41c18ef1f95f493b227e",
      "7617909aea4e45429c7e03f7cca25fd7",
      "7696f605258941e291fc4b347e796dc3",
      "d37f751babc649bfac92a80d2fef5b87",
      "a0c9daf9dad84703bd57e30b02b6c362",
      "cb7ec37a494344278e5dcede2409fec8",
      "0ebe55af4f694e12997eba593291c69d",
      "fcf67a330d7f4c03815abb9b50664256",
      "7d958616100c462b81ba2441e6c9cd16",
      "bc07f5e200c144f0bfc6be1dd67501f6",
      "fd40b11f0ba942ae97d4e2ce376b1e3b",
      "a965c6a74a4d4a17bef4ab2e036abaff",
      "913b9c9d13394149a5ac2b25714e53ca",
      "2792bfde7dec44b7863fb34dcfd76003",
      "691c9c940faa4d1c8458cd69d4a6314a",
      "dbc54c1695d149c6ae11fbe20f8652df",
      "67c06224c2ab4d299279893dfd9f50c9",
      "4bcce309087643a1982cbf898736e842",
      "4a82c737e0984deb9e3bffe62e94d60b",
      "6d2d1b203e3344d88f5134441ec1b567",
      "1d1efa33832e45c98a2c7bcb5e1164eb",
      "f12dfb7c74124ddb8c5339756ed5d14c",
      "0d65dee0591c421eaade75278e889de4",
      "f19dfe5c1b2848de96a3d3601916cc7c",
      "6dc937b73756450daec9b3c59e8332b1",
      "754e0c2a4ecb4de895df76e10cde16ef",
      "1c408b269a914663bd8c6c00d3b0ed4a",
      "64d2d28c8d294e518d75900b5193cbab",
      "0587c605a85b4502936fd1fec25630a7"
     ]
    },
    "id": "7byeWx0bEGL5",
    "outputId": "b86cc4bb-44c9-4018-8f14-58b9fd598649"
   },
   "outputs": [
    {
     "data": {
      "application/vnd.jupyter.widget-view+json": {
       "model_id": "620f332c1898401587c2b9b2a42f7706",
       "version_major": 2,
       "version_minor": 0
      },
      "text/plain": [
       "VBox(children=(HTML(value='<center> <img\\nsrc=https://huggingface.co/front/assets/huggingface_logo-noborder.sv…"
      ]
     },
     "metadata": {},
     "output_type": "display_data"
    }
   ],
   "source": [
    "from huggingface_sb3 import load_from_hub, package_to_hub, push_to_hub\n",
    "from huggingface_hub import notebook_login # To log to our Hugging Face account to be able to upload models to the Hub.\n",
    "\n",
    "notebook_login()\n",
    "!git config --global credential.helper store"
   ]
  },
  {
   "cell_type": "markdown",
   "metadata": {},
   "source": [
    "**IMPORTANT**\n",
    "Some users have reported facing following error while running the `package_to_hub` upload function. \n",
    "\n",
    "```\n",
    "\"Token is required (write-access action) but no token found. You need to provide a token or be logged in to Hugging Face with `huggingface-cli login` or `huggingface_hub.login`. See https://huggingface.co/settings/tokens.\"\n",
    "```\n",
    "\n",
    "In such a case the following command will help you over come the issue\n",
    "\n",
    "```\n",
    "import huggingface_hub\n",
    "\n",
    "huggingface_hub.login(token= <YOUR_HF_TOKEN>,\n",
    "                     write_permission = True,\n",
    "                    add_to_git_credential = True)\n",
    "\t\t\t\t\t\n",
    "```\n",
    "\n",
    "Another alternative is to use following command from command shell where the `venv` or `conda` environment for this repository has been activated and then follow the instructions to set the HuggingFace token.\n",
    "\n",
    "```\n",
    "huggingface-cli login\n",
    "\n",
    "```"
   ]
  },
  {
   "cell_type": "code",
   "execution_count": 17,
   "metadata": {
    "colab": {
     "base_uri": "https://localhost:8080/",
     "height": 446,
     "referenced_widgets": [
      "8c6d30bc5ada4f6a989ec5cd06a152a3",
      "8cdda61684e34019af451e5e8d0aba5d",
      "67b07c3edb5a41e7adf557a320cd594f",
      "f5dc0ad331fa4d7f80d8b608b60c9e44",
      "f36e66d04b7c48709ae886e78601eaf0",
      "f0e2ae53f45d4f61a28092303f8c2368",
      "ff486779d1754ada97cd7ceb16389967",
      "3eed6282686743aa88d26c7415670198",
      "927c65b5f12340afb35c073a25854efb",
      "18b620a0db8e43db8674d0b7899ea788",
      "ab566bdbbd564393a5355afb61470a2a",
      "391f473a1d3e4e2fbb95a89015e5f7bf",
      "de95f370a2644d79a1b18692393daed9",
      "fd7a614d07bd4c629f419965961730f8",
      "0e4046a1ee004d09a5de6fe25359df9e",
      "8d9c72cd5fba4b359595f609918dd618",
      "c32973a22ccd4f6bb4e54a47a1171065",
      "fca263ee57744f4d8d451715904d9790",
      "7688f0b367484ab8b3e4e7359a5642d5",
      "06ada10b2c264218896da24f6857fecc",
      "4e7672f426674a32adcd749b24d45c6d",
      "065fa85413064f60a8a28894ec3fa759",
      "97a1ba6ceea74b89b6a482d629d8881c",
      "35560bdfb97343759e8b194f343e7377",
      "e253b23702bb498ca25ce8d54a33e795",
      "311ee09963c646f8866fed7251954c10",
      "e0d645e8ccd3452481e7676bf34b06f1",
      "415cbfa6c36d46bc9f269e760c03acb1",
      "3e85b50b62244209af90462431fc32d8",
      "67878ea260a544baa780e44da6616bea",
      "b25775e2ed9142b79e16556dfa8e44b7",
      "2e4be5aa34a84297935fc95f3253b1ff",
      "c0f5db8683a54051ba8e09c18b937735"
     ]
    },
    "id": "vUfaMkSAD4L9",
    "outputId": "49598cd9-b970-46a6-d5f8-e888960a54c4"
   },
   "outputs": [
    {
     "name": "stdout",
     "output_type": "stream",
     "text": [
      "\u001b[38;5;4mℹ This function will save, evaluate, generate a video of your agent,\n",
      "create a model card and push everything to the hub. It might take up to 1min.\n",
      "This is a work in progress: if you encounter a bug, please open an issue.\u001b[0m\n"
     ]
    },
    {
     "name": "stderr",
     "output_type": "stream",
     "text": [
      "/home/nsanghi/sandbox/apress/drl-2ed/venv39/lib/python3.9/site-packages/stable_baselines3/common/evaluation.py:67: UserWarning: Evaluation environment is not wrapped with a ``Monitor`` wrapper. This may result in reporting modified episode lengths and rewards, if other wrappers happen to modify these. Consider wrapping environment first with ``Monitor`` wrapper.\n",
      "  warnings.warn(\n"
     ]
    },
    {
     "name": "stdout",
     "output_type": "stream",
     "text": [
      "Saving video to /tmp/tmprxs4ameq/-step-0-to-step-1000.mp4\n",
      "Moviepy - Building video /tmp/tmprxs4ameq/-step-0-to-step-1000.mp4.\n",
      "Moviepy - Writing video /tmp/tmprxs4ameq/-step-0-to-step-1000.mp4\n",
      "\n"
     ]
    },
    {
     "name": "stderr",
     "output_type": "stream",
     "text": [
      "ffmpeg version 4.4.2-0ubuntu0.22.04.1 Copyright (c) 2000-2021 the FFmpeg developers                                     \n",
      "  built with gcc 11 (Ubuntu 11.2.0-19ubuntu1)\n",
      "  configuration: --prefix=/usr --extra-version=0ubuntu0.22.04.1 --toolchain=hardened --libdir=/usr/lib/x86_64-linux-gnu --incdir=/usr/include/x86_64-linux-gnu --arch=amd64 --enable-gpl --disable-stripping --enable-gnutls --enable-ladspa --enable-libaom --enable-libass --enable-libbluray --enable-libbs2b --enable-libcaca --enable-libcdio --enable-libcodec2 --enable-libdav1d --enable-libflite --enable-libfontconfig --enable-libfreetype --enable-libfribidi --enable-libgme --enable-libgsm --enable-libjack --enable-libmp3lame --enable-libmysofa --enable-libopenjpeg --enable-libopenmpt --enable-libopus --enable-libpulse --enable-librabbitmq --enable-librubberband --enable-libshine --enable-libsnappy --enable-libsoxr --enable-libspeex --enable-libsrt --enable-libssh --enable-libtheora --enable-libtwolame --enable-libvidstab --enable-libvorbis --enable-libvpx --enable-libwebp --enable-libx265 --enable-libxml2 --enable-libxvid --enable-libzimg --enable-libzmq --enable-libzvbi --enable-lv2 --enable-omx --enable-openal --enable-opencl --enable-opengl --enable-sdl2 --enable-pocketsphinx --enable-librsvg --enable-libmfx --enable-libdc1394 --enable-libdrm --enable-libiec61883 --enable-chromaprint --enable-frei0r --enable-libx264 --enable-shared\n",
      "  libavutil      56. 70.100 / 56. 70.100\n",
      "  libavcodec     58.134.100 / 58.134.100\n",
      "  libavformat    58. 76.100 / 58. 76.100\n",
      "  libavdevice    58. 13.100 / 58. 13.100\n",
      "  libavfilter     7.110.100 /  7.110.100\n",
      "  libswscale      5.  9.100 /  5.  9.100\n",
      "  libswresample   3.  9.100 /  3.  9.100\n",
      "  libpostproc    55.  9.100 / 55.  9.100\n",
      "Input #0, mov,mp4,m4a,3gp,3g2,mj2, from '/tmp/tmprxs4ameq/-step-0-to-step-1000.mp4':\n",
      "  Metadata:\n",
      "    major_brand     : isom\n",
      "    minor_version   : 512\n",
      "    compatible_brands: isomiso2avc1mp41\n",
      "    encoder         : Lavf58.29.100\n",
      "  Duration: 00:00:20.02, start: 0.000000, bitrate: 82 kb/s\n",
      "  Stream #0:0(und): Video: h264 (High) (avc1 / 0x31637661), yuv420p, 600x400, 77 kb/s, 50 fps, 50 tbr, 12800 tbn, 100 tbc (default)\n",
      "    Metadata:\n",
      "      handler_name    : VideoHandler\n",
      "      vendor_id       : [0][0][0][0]\n",
      "Stream mapping:\n",
      "  Stream #0:0 -> #0:0 (h264 (native) -> h264 (libx264))\n",
      "Press [q] to stop, [?] for help\n",
      "[libx264 @ 0x55da91577a80] using cpu capabilities: MMX2 SSE2Fast SSSE3 SSE4.2 AVX FMA3 BMI2 AVX2\n",
      "[libx264 @ 0x55da91577a80] profile High, level 3.1, 4:2:0, 8-bit\n",
      "[libx264 @ 0x55da91577a80] 264 - core 163 r3060 5db6aa6 - H.264/MPEG-4 AVC codec - Copyleft 2003-2021 - http://www.videolan.org/x264.html - options: cabac=1 ref=3 deblock=1:0:0 analyse=0x3:0x113 me=hex subme=7 psy=1 psy_rd=1.00:0.00 mixed_ref=1 me_range=16 chroma_me=1 trellis=1 8x8dct=1 cqm=0 deadzone=21,11 fast_pskip=1 chroma_qp_offset=-2 threads=12 lookahead_threads=2 sliced_threads=0 nr=0 decimate=1 interlaced=0 bluray_compat=0 constrained_intra=0 bframes=3 b_pyramid=2 b_adapt=1 b_bias=0 direct=1 weightb=1 open_gop=0 weightp=2 keyint=250 keyint_min=25 scenecut=40 intra_refresh=0 rc_lookahead=40 rc=crf mbtree=1 crf=23.0 qcomp=0.60 qpmin=0 qpmax=69 qpstep=4 ip_ratio=1.40 aq=1:1.00\n",
      "Output #0, mp4, to '/tmp/tmpxerc51ai/replay.mp4':\n",
      "  Metadata:\n",
      "    major_brand     : isom\n",
      "    minor_version   : 512\n",
      "    compatible_brands: isomiso2avc1mp41\n",
      "    encoder         : Lavf58.76.100\n",
      "  Stream #0:0(und): Video: h264 (avc1 / 0x31637661), yuv420p(progressive), 600x400, q=2-31, 50 fps, 12800 tbn (default)\n",
      "    Metadata:\n",
      "      handler_name    : VideoHandler\n",
      "      vendor_id       : [0][0][0][0]\n",
      "      encoder         : Lavc58.134.100 libx264\n",
      "    Side data:\n",
      "      cpb: bitrate max/min/avg: 0/0/0 buffer size: 0 vbv_delay: N/A\n",
      "frame=    1 fps=0.0 q=0.0 size=       0kB time=00:00:00.00 bitrate=N/A speed=   0x    \r"
     ]
    },
    {
     "name": "stdout",
     "output_type": "stream",
     "text": [
      "Moviepy - Done !\n",
      "Moviepy - video ready /tmp/tmprxs4ameq/-step-0-to-step-1000.mp4\n"
     ]
    },
    {
     "name": "stderr",
     "output_type": "stream",
     "text": [
      "frame= 1001 fps=558 q=-1.0 Lsize=     192kB time=00:00:19.96 bitrate=  78.7kbits/s speed=11.1x    \n",
      "video:179kB audio:0kB subtitle:0kB other streams:0kB global headers:0kB muxing overhead: 7.011080%\n",
      "[libx264 @ 0x55da91577a80] frame I:5     Avg QP:10.12  size:  2003\n",
      "[libx264 @ 0x55da91577a80] frame P:255   Avg QP:24.55  size:   241\n",
      "[libx264 @ 0x55da91577a80] frame B:741   Avg QP:26.80  size:   150\n",
      "[libx264 @ 0x55da91577a80] consecutive B-frames:  0.6%  1.8%  0.9% 96.7%\n",
      "[libx264 @ 0x55da91577a80] mb I  I16..4: 88.8%  4.7%  6.5%\n",
      "[libx264 @ 0x55da91577a80] mb P  I16..4:  0.2%  0.5%  0.2%  P16..4:  2.1%  0.5%  0.2%  0.0%  0.0%    skip:96.4%\n",
      "[libx264 @ 0x55da91577a80] mb B  I16..4:  0.0%  0.0%  0.1%  B16..8:  3.1%  0.3%  0.0%  direct: 0.1%  skip:96.3%  L0:53.2% L1:45.9% BI: 0.9%\n",
      "[libx264 @ 0x55da91577a80] 8x8 transform intra:21.1% inter:17.2%\n",
      "[libx264 @ 0x55da91577a80] coded y,uvDC,uvAC intra: 8.3% 14.0% 12.8% inter: 0.2% 0.3% 0.3%\n",
      "[libx264 @ 0x55da91577a80] i16 v,h,dc,p: 88%  7%  5%  0%\n",
      "[libx264 @ 0x55da91577a80] i8 v,h,dc,ddl,ddr,vr,hd,vl,hu: 10%  5% 85%  0%  0%  0%  0%  0%  0%\n",
      "[libx264 @ 0x55da91577a80] i4 v,h,dc,ddl,ddr,vr,hd,vl,hu: 13% 13% 63%  2%  3%  1%  3%  1%  2%\n",
      "[libx264 @ 0x55da91577a80] i8c dc,h,v,p: 91%  5%  3%  0%\n",
      "[libx264 @ 0x55da91577a80] Weighted P-Frames: Y:0.0% UV:0.0%\n",
      "[libx264 @ 0x55da91577a80] ref P L0: 67.0%  1.6% 20.9% 10.6%\n",
      "[libx264 @ 0x55da91577a80] ref B L0: 71.4% 24.6%  4.0%\n",
      "[libx264 @ 0x55da91577a80] ref B L1: 92.2%  7.8%\n",
      "[libx264 @ 0x55da91577a80] kb/s:73.04\n"
     ]
    },
    {
     "name": "stdout",
     "output_type": "stream",
     "text": [
      "\u001b[38;5;4mℹ Pushing repo nsanghi/dqn-LunarLander-v2 to the Hugging Face Hub\u001b[0m\n"
     ]
    },
    {
     "data": {
      "application/vnd.jupyter.widget-view+json": {
       "model_id": "b51c8380cea642d5b6c719e8489dfb31",
       "version_major": 2,
       "version_minor": 0
      },
      "text/plain": [
       "dqn-LunarLander-v2.zip:   0%|          | 0.00/107k [00:00<?, ?B/s]"
      ]
     },
     "metadata": {},
     "output_type": "display_data"
    },
    {
     "data": {
      "application/vnd.jupyter.widget-view+json": {
       "model_id": "bf8c0fffef7e4534972f8b915242b804",
       "version_major": 2,
       "version_minor": 0
      },
      "text/plain": [
       "replay.mp4:   0%|          | 0.00/196k [00:00<?, ?B/s]"
      ]
     },
     "metadata": {},
     "output_type": "display_data"
    },
    {
     "data": {
      "application/vnd.jupyter.widget-view+json": {
       "model_id": "e2d19cc474074a4baf9e06df14c7acc3",
       "version_major": 2,
       "version_minor": 0
      },
      "text/plain": [
       "Upload 2 LFS files:   0%|          | 0/2 [00:00<?, ?it/s]"
      ]
     },
     "metadata": {},
     "output_type": "display_data"
    },
    {
     "name": "stdout",
     "output_type": "stream",
     "text": [
      "\u001b[38;5;4mℹ Your model is pushed to the Hub. You can view your model here:\n",
      "https://huggingface.co/nsanghi/dqn-LunarLander-v2/tree/main/\u001b[0m\n"
     ]
    },
    {
     "data": {
      "text/plain": [
       "'https://huggingface.co/nsanghi/dqn-LunarLander-v2/tree/main/'"
      ]
     },
     "execution_count": 17,
     "metadata": {},
     "output_type": "execute_result"
    }
   ],
   "source": [
    "eval_env = gym.make(\"LunarLander-v3\", render_mode='rgb_array')\n",
    "\n",
    "# method save, evaluate, generate a model card and record a replay video of your agent before pushing the repo to the hub\n",
    "\n",
    "# Please note repo_id is of the form <huggingface_id>/<name of repo>\n",
    "# you will need to change this to \"<your_huggingface_id>/dqn-LunarLander-v3\"\n",
    "\n",
    "package_to_hub(model=model, # Our trained model\n",
    "               model_name=\"dqn-LunarLander-v3\", # The name of our trained model\n",
    "               model_architecture=\"DQN\", # The model architecture we used: in our case PPO\n",
    "               env_id=\"LunarLander-v3\", # Name of the environment\n",
    "               eval_env=eval_env, # Evaluation Environment\n",
    "               repo_id=\"nsanghi/dqn-LunarLander-v3\", # id of the model repository from the Hugging Face Hub (repo_id = {organization}/{repo_name} for instance nsanghi/dqn-LunarLander-v3\n",
    "               commit_message=\"Push to Hub\")"
   ]
  },
  {
   "cell_type": "markdown",
   "metadata": {
    "id": "ShY8CHnLIMJg"
   },
   "source": [
    "## Checking the Results on Huggingface\n",
    "\n",
    "After successful upload, you will see a message at the end of above cell output giving you a link where you can view the model. **It will have a pattern like `https://huggingface.co/<yourusername>/dqn-LunarLander-v3/`**\n",
    "\n",
    "Please click on this link to access the trained agent. You can also share this link with others to show the result of training. Share the url without the ending paths \"tree/main\" so that the link takes them to Model Card tab where they can see the animation. e.g. in my case it will be:<br/>\n",
    "`https://huggingface.co/nsanghi/dqn-LunarLander-v3/`<br/>\n",
    "instead of<br/>\n",
    "`https://huggingface.co/nsanghi/dqn-LunarLander-v3/tree/main/`\n",
    "\n",
    "NOTE: At the time of writing this book, there is a bug in push_to_hub which results in sample video not getting created. You can refer to this bug here - https://github.com/huggingface/huggingface_sb3/issues/33\n"
   ]
  }
 ],
 "metadata": {
  "kernelspec": {
   "display_name": ".venv",
   "language": "python",
   "name": "python3"
  },
  "language_info": {
   "codemirror_mode": {
    "name": "ipython",
    "version": 3
   },
   "file_extension": ".py",
   "mimetype": "text/x-python",
   "name": "python",
   "nbconvert_exporter": "python",
   "pygments_lexer": "ipython3",
   "version": "3.10.13"
  },
  "widgets": {
   "application/vnd.jupyter.widget-state+json": {
    "0587c605a85b4502936fd1fec25630a7": {
     "model_module": "@jupyter-widgets/controls",
     "model_module_version": "1.5.0",
     "model_name": "DescriptionStyleModel",
     "state": {
      "_model_module": "@jupyter-widgets/controls",
      "_model_module_version": "1.5.0",
      "_model_name": "DescriptionStyleModel",
      "_view_count": null,
      "_view_module": "@jupyter-widgets/base",
      "_view_module_version": "1.2.0",
      "_view_name": "StyleView",
      "description_width": ""
     }
    },
    "060c33f79563429983f38920ea56501d": {
     "model_module": "@jupyter-widgets/base",
     "model_module_version": "1.2.0",
     "model_name": "LayoutModel",
     "state": {
      "_model_module": "@jupyter-widgets/base",
      "_model_module_version": "1.2.0",
      "_model_name": "LayoutModel",
      "_view_count": null,
      "_view_module": "@jupyter-widgets/base",
      "_view_module_version": "1.2.0",
      "_view_name": "LayoutView",
      "align_content": null,
      "align_items": null,
      "align_self": null,
      "border": null,
      "bottom": null,
      "display": null,
      "flex": null,
      "flex_flow": null,
      "grid_area": null,
      "grid_auto_columns": null,
      "grid_auto_flow": null,
      "grid_auto_rows": null,
      "grid_column": null,
      "grid_gap": null,
      "grid_row": null,
      "grid_template_areas": null,
      "grid_template_columns": null,
      "grid_template_rows": null,
      "height": null,
      "justify_content": null,
      "justify_items": null,
      "left": null,
      "margin": null,
      "max_height": null,
      "max_width": null,
      "min_height": null,
      "min_width": null,
      "object_fit": null,
      "object_position": null,
      "order": null,
      "overflow": null,
      "overflow_x": null,
      "overflow_y": null,
      "padding": null,
      "right": null,
      "top": null,
      "visibility": null,
      "width": null
     }
    },
    "065fa85413064f60a8a28894ec3fa759": {
     "model_module": "@jupyter-widgets/controls",
     "model_module_version": "1.5.0",
     "model_name": "DescriptionStyleModel",
     "state": {
      "_model_module": "@jupyter-widgets/controls",
      "_model_module_version": "1.5.0",
      "_model_name": "DescriptionStyleModel",
      "_view_count": null,
      "_view_module": "@jupyter-widgets/base",
      "_view_module_version": "1.2.0",
      "_view_name": "StyleView",
      "description_width": ""
     }
    },
    "06ada10b2c264218896da24f6857fecc": {
     "model_module": "@jupyter-widgets/controls",
     "model_module_version": "1.5.0",
     "model_name": "ProgressStyleModel",
     "state": {
      "_model_module": "@jupyter-widgets/controls",
      "_model_module_version": "1.5.0",
      "_model_name": "ProgressStyleModel",
      "_view_count": null,
      "_view_module": "@jupyter-widgets/base",
      "_view_module_version": "1.2.0",
      "_view_name": "StyleView",
      "bar_color": null,
      "description_width": ""
     }
    },
    "0d65dee0591c421eaade75278e889de4": {
     "model_module": "@jupyter-widgets/controls",
     "model_module_version": "1.5.0",
     "model_name": "DescriptionStyleModel",
     "state": {
      "_model_module": "@jupyter-widgets/controls",
      "_model_module_version": "1.5.0",
      "_model_name": "DescriptionStyleModel",
      "_view_count": null,
      "_view_module": "@jupyter-widgets/base",
      "_view_module_version": "1.2.0",
      "_view_name": "StyleView",
      "description_width": ""
     }
    },
    "0e4046a1ee004d09a5de6fe25359df9e": {
     "model_module": "@jupyter-widgets/controls",
     "model_module_version": "1.5.0",
     "model_name": "HTMLModel",
     "state": {
      "_dom_classes": [],
      "_model_module": "@jupyter-widgets/controls",
      "_model_module_version": "1.5.0",
      "_model_name": "HTMLModel",
      "_view_count": null,
      "_view_module": "@jupyter-widgets/controls",
      "_view_module_version": "1.5.0",
      "_view_name": "HTMLView",
      "description": "",
      "description_tooltip": null,
      "layout": "IPY_MODEL_4e7672f426674a32adcd749b24d45c6d",
      "placeholder": "​",
      "style": "IPY_MODEL_065fa85413064f60a8a28894ec3fa759",
      "value": " 105k/105k [00:00&lt;00:00, 473kB/s]"
     }
    },
    "0ebe55af4f694e12997eba593291c69d": {
     "model_module": "@jupyter-widgets/base",
     "model_module_version": "1.2.0",
     "model_name": "LayoutModel",
     "state": {
      "_model_module": "@jupyter-widgets/base",
      "_model_module_version": "1.2.0",
      "_model_name": "LayoutModel",
      "_view_count": null,
      "_view_module": "@jupyter-widgets/base",
      "_view_module_version": "1.2.0",
      "_view_name": "LayoutView",
      "align_content": null,
      "align_items": null,
      "align_self": null,
      "border": null,
      "bottom": null,
      "display": null,
      "flex": null,
      "flex_flow": null,
      "grid_area": null,
      "grid_auto_columns": null,
      "grid_auto_flow": null,
      "grid_auto_rows": null,
      "grid_column": null,
      "grid_gap": null,
      "grid_row": null,
      "grid_template_areas": null,
      "grid_template_columns": null,
      "grid_template_rows": null,
      "height": null,
      "justify_content": null,
      "justify_items": null,
      "left": null,
      "margin": null,
      "max_height": null,
      "max_width": null,
      "min_height": null,
      "min_width": null,
      "object_fit": null,
      "object_position": null,
      "order": null,
      "overflow": null,
      "overflow_x": null,
      "overflow_y": null,
      "padding": null,
      "right": null,
      "top": null,
      "visibility": null,
      "width": null
     }
    },
    "1489b32e36794bb0ad04f8250cba921a": {
     "model_module": "@jupyter-widgets/output",
     "model_module_version": "1.0.0",
     "model_name": "OutputModel",
     "state": {
      "_dom_classes": [],
      "_model_module": "@jupyter-widgets/output",
      "_model_module_version": "1.0.0",
      "_model_name": "OutputModel",
      "_view_count": null,
      "_view_module": "@jupyter-widgets/output",
      "_view_module_version": "1.0.0",
      "_view_name": "OutputView",
      "layout": "IPY_MODEL_060c33f79563429983f38920ea56501d",
      "msg_id": "",
      "outputs": [
       {
        "data": {
         "text/html": "<pre style=\"white-space:pre;overflow-x:auto;line-height:normal;font-family:Menlo,'DejaVu Sans Mono',consolas,'Courier New',monospace\"><span style=\"color: #800080; text-decoration-color: #800080\"> 100%</span> <span style=\"color: #f92672; text-decoration-color: #f92672\">━━━━━━━━━━━━━━━━━━━━━━━━━━━━━━━━━━━━━━━━━━━━━━━━━━━━━━━━━━━╸</span> <span style=\"color: #008000; text-decoration-color: #008000\">99,970/100,000 </span> [ <span style=\"color: #808000; text-decoration-color: #808000\">0:02:27</span> &lt; <span style=\"color: #008080; text-decoration-color: #008080\">0:00:01</span> , <span style=\"color: #800000; text-decoration-color: #800000\">400 it/s</span> ]\n</pre>\n",
         "text/plain": "\u001b[35m 100%\u001b[0m \u001b[38;2;249;38;114m━━━━━━━━━━━━━━━━━━━━━━━━━━━━━━━━━━━━━━━━━━━━━━━━━━━━━━━━━━━\u001b[0m\u001b[38;2;249;38;114m╸\u001b[0m \u001b[32m99,970/100,000 \u001b[0m [ \u001b[33m0:02:27\u001b[0m < \u001b[36m0:00:01\u001b[0m , \u001b[31m400 it/s\u001b[0m ]\n"
        },
        "metadata": {},
        "output_type": "display_data"
       }
      ]
     }
    },
    "18b620a0db8e43db8674d0b7899ea788": {
     "model_module": "@jupyter-widgets/base",
     "model_module_version": "1.2.0",
     "model_name": "LayoutModel",
     "state": {
      "_model_module": "@jupyter-widgets/base",
      "_model_module_version": "1.2.0",
      "_model_name": "LayoutModel",
      "_view_count": null,
      "_view_module": "@jupyter-widgets/base",
      "_view_module_version": "1.2.0",
      "_view_name": "LayoutView",
      "align_content": null,
      "align_items": null,
      "align_self": null,
      "border": null,
      "bottom": null,
      "display": null,
      "flex": null,
      "flex_flow": null,
      "grid_area": null,
      "grid_auto_columns": null,
      "grid_auto_flow": null,
      "grid_auto_rows": null,
      "grid_column": null,
      "grid_gap": null,
      "grid_row": null,
      "grid_template_areas": null,
      "grid_template_columns": null,
      "grid_template_rows": null,
      "height": null,
      "justify_content": null,
      "justify_items": null,
      "left": null,
      "margin": null,
      "max_height": null,
      "max_width": null,
      "min_height": null,
      "min_width": null,
      "object_fit": null,
      "object_position": null,
      "order": null,
      "overflow": null,
      "overflow_x": null,
      "overflow_y": null,
      "padding": null,
      "right": null,
      "top": null,
      "visibility": null,
      "width": null
     }
    },
    "1c408b269a914663bd8c6c00d3b0ed4a": {
     "model_module": "@jupyter-widgets/controls",
     "model_module_version": "1.5.0",
     "model_name": "DescriptionStyleModel",
     "state": {
      "_model_module": "@jupyter-widgets/controls",
      "_model_module_version": "1.5.0",
      "_model_name": "DescriptionStyleModel",
      "_view_count": null,
      "_view_module": "@jupyter-widgets/base",
      "_view_module_version": "1.2.0",
      "_view_name": "StyleView",
      "description_width": ""
     }
    },
    "1d1efa33832e45c98a2c7bcb5e1164eb": {
     "model_module": "@jupyter-widgets/controls",
     "model_module_version": "1.5.0",
     "model_name": "LabelModel",
     "state": {
      "_dom_classes": [],
      "_model_module": "@jupyter-widgets/controls",
      "_model_module_version": "1.5.0",
      "_model_name": "LabelModel",
      "_view_count": null,
      "_view_module": "@jupyter-widgets/controls",
      "_view_module_version": "1.5.0",
      "_view_name": "LabelView",
      "description": "",
      "description_tooltip": null,
      "layout": "IPY_MODEL_64d2d28c8d294e518d75900b5193cbab",
      "placeholder": "​",
      "style": "IPY_MODEL_0587c605a85b4502936fd1fec25630a7",
      "value": "Login successful"
     }
    },
    "2792bfde7dec44b7863fb34dcfd76003": {
     "model_module": "@jupyter-widgets/controls",
     "model_module_version": "1.5.0",
     "model_name": "DescriptionStyleModel",
     "state": {
      "_model_module": "@jupyter-widgets/controls",
      "_model_module_version": "1.5.0",
      "_model_name": "DescriptionStyleModel",
      "_view_count": null,
      "_view_module": "@jupyter-widgets/base",
      "_view_module_version": "1.2.0",
      "_view_name": "StyleView",
      "description_width": ""
     }
    },
    "2e4be5aa34a84297935fc95f3253b1ff": {
     "model_module": "@jupyter-widgets/base",
     "model_module_version": "1.2.0",
     "model_name": "LayoutModel",
     "state": {
      "_model_module": "@jupyter-widgets/base",
      "_model_module_version": "1.2.0",
      "_model_name": "LayoutModel",
      "_view_count": null,
      "_view_module": "@jupyter-widgets/base",
      "_view_module_version": "1.2.0",
      "_view_name": "LayoutView",
      "align_content": null,
      "align_items": null,
      "align_self": null,
      "border": null,
      "bottom": null,
      "display": null,
      "flex": null,
      "flex_flow": null,
      "grid_area": null,
      "grid_auto_columns": null,
      "grid_auto_flow": null,
      "grid_auto_rows": null,
      "grid_column": null,
      "grid_gap": null,
      "grid_row": null,
      "grid_template_areas": null,
      "grid_template_columns": null,
      "grid_template_rows": null,
      "height": null,
      "justify_content": null,
      "justify_items": null,
      "left": null,
      "margin": null,
      "max_height": null,
      "max_width": null,
      "min_height": null,
      "min_width": null,
      "object_fit": null,
      "object_position": null,
      "order": null,
      "overflow": null,
      "overflow_x": null,
      "overflow_y": null,
      "padding": null,
      "right": null,
      "top": null,
      "visibility": null,
      "width": null
     }
    },
    "311ee09963c646f8866fed7251954c10": {
     "model_module": "@jupyter-widgets/controls",
     "model_module_version": "1.5.0",
     "model_name": "HTMLModel",
     "state": {
      "_dom_classes": [],
      "_model_module": "@jupyter-widgets/controls",
      "_model_module_version": "1.5.0",
      "_model_name": "HTMLModel",
      "_view_count": null,
      "_view_module": "@jupyter-widgets/controls",
      "_view_module_version": "1.5.0",
      "_view_name": "HTMLView",
      "description": "",
      "description_tooltip": null,
      "layout": "IPY_MODEL_2e4be5aa34a84297935fc95f3253b1ff",
      "placeholder": "​",
      "style": "IPY_MODEL_c0f5db8683a54051ba8e09c18b937735",
      "value": " 146k/146k [00:00&lt;00:00, 431kB/s]"
     }
    },
    "35560bdfb97343759e8b194f343e7377": {
     "model_module": "@jupyter-widgets/controls",
     "model_module_version": "1.5.0",
     "model_name": "HTMLModel",
     "state": {
      "_dom_classes": [],
      "_model_module": "@jupyter-widgets/controls",
      "_model_module_version": "1.5.0",
      "_model_name": "HTMLModel",
      "_view_count": null,
      "_view_module": "@jupyter-widgets/controls",
      "_view_module_version": "1.5.0",
      "_view_name": "HTMLView",
      "description": "",
      "description_tooltip": null,
      "layout": "IPY_MODEL_415cbfa6c36d46bc9f269e760c03acb1",
      "placeholder": "​",
      "style": "IPY_MODEL_3e85b50b62244209af90462431fc32d8",
      "value": "replay.mp4: 100%"
     }
    },
    "391f473a1d3e4e2fbb95a89015e5f7bf": {
     "model_module": "@jupyter-widgets/controls",
     "model_module_version": "1.5.0",
     "model_name": "HBoxModel",
     "state": {
      "_dom_classes": [],
      "_model_module": "@jupyter-widgets/controls",
      "_model_module_version": "1.5.0",
      "_model_name": "HBoxModel",
      "_view_count": null,
      "_view_module": "@jupyter-widgets/controls",
      "_view_module_version": "1.5.0",
      "_view_name": "HBoxView",
      "box_style": "",
      "children": [
       "IPY_MODEL_de95f370a2644d79a1b18692393daed9",
       "IPY_MODEL_fd7a614d07bd4c629f419965961730f8",
       "IPY_MODEL_0e4046a1ee004d09a5de6fe25359df9e"
      ],
      "layout": "IPY_MODEL_8d9c72cd5fba4b359595f609918dd618"
     }
    },
    "3e85b50b62244209af90462431fc32d8": {
     "model_module": "@jupyter-widgets/controls",
     "model_module_version": "1.5.0",
     "model_name": "DescriptionStyleModel",
     "state": {
      "_model_module": "@jupyter-widgets/controls",
      "_model_module_version": "1.5.0",
      "_model_name": "DescriptionStyleModel",
      "_view_count": null,
      "_view_module": "@jupyter-widgets/base",
      "_view_module_version": "1.2.0",
      "_view_name": "StyleView",
      "description_width": ""
     }
    },
    "3eed6282686743aa88d26c7415670198": {
     "model_module": "@jupyter-widgets/base",
     "model_module_version": "1.2.0",
     "model_name": "LayoutModel",
     "state": {
      "_model_module": "@jupyter-widgets/base",
      "_model_module_version": "1.2.0",
      "_model_name": "LayoutModel",
      "_view_count": null,
      "_view_module": "@jupyter-widgets/base",
      "_view_module_version": "1.2.0",
      "_view_name": "LayoutView",
      "align_content": null,
      "align_items": null,
      "align_self": null,
      "border": null,
      "bottom": null,
      "display": null,
      "flex": null,
      "flex_flow": null,
      "grid_area": null,
      "grid_auto_columns": null,
      "grid_auto_flow": null,
      "grid_auto_rows": null,
      "grid_column": null,
      "grid_gap": null,
      "grid_row": null,
      "grid_template_areas": null,
      "grid_template_columns": null,
      "grid_template_rows": null,
      "height": null,
      "justify_content": null,
      "justify_items": null,
      "left": null,
      "margin": null,
      "max_height": null,
      "max_width": null,
      "min_height": null,
      "min_width": null,
      "object_fit": null,
      "object_position": null,
      "order": null,
      "overflow": null,
      "overflow_x": null,
      "overflow_y": null,
      "padding": null,
      "right": null,
      "top": null,
      "visibility": null,
      "width": null
     }
    },
    "415cbfa6c36d46bc9f269e760c03acb1": {
     "model_module": "@jupyter-widgets/base",
     "model_module_version": "1.2.0",
     "model_name": "LayoutModel",
     "state": {
      "_model_module": "@jupyter-widgets/base",
      "_model_module_version": "1.2.0",
      "_model_name": "LayoutModel",
      "_view_count": null,
      "_view_module": "@jupyter-widgets/base",
      "_view_module_version": "1.2.0",
      "_view_name": "LayoutView",
      "align_content": null,
      "align_items": null,
      "align_self": null,
      "border": null,
      "bottom": null,
      "display": null,
      "flex": null,
      "flex_flow": null,
      "grid_area": null,
      "grid_auto_columns": null,
      "grid_auto_flow": null,
      "grid_auto_rows": null,
      "grid_column": null,
      "grid_gap": null,
      "grid_row": null,
      "grid_template_areas": null,
      "grid_template_columns": null,
      "grid_template_rows": null,
      "height": null,
      "justify_content": null,
      "justify_items": null,
      "left": null,
      "margin": null,
      "max_height": null,
      "max_width": null,
      "min_height": null,
      "min_width": null,
      "object_fit": null,
      "object_position": null,
      "order": null,
      "overflow": null,
      "overflow_x": null,
      "overflow_y": null,
      "padding": null,
      "right": null,
      "top": null,
      "visibility": null,
      "width": null
     }
    },
    "4a82c737e0984deb9e3bffe62e94d60b": {
     "model_module": "@jupyter-widgets/controls",
     "model_module_version": "1.5.0",
     "model_name": "LabelModel",
     "state": {
      "_dom_classes": [],
      "_model_module": "@jupyter-widgets/controls",
      "_model_module_version": "1.5.0",
      "_model_name": "LabelModel",
      "_view_count": null,
      "_view_module": "@jupyter-widgets/controls",
      "_view_module_version": "1.5.0",
      "_view_name": "LabelView",
      "description": "",
      "description_tooltip": null,
      "layout": "IPY_MODEL_f19dfe5c1b2848de96a3d3601916cc7c",
      "placeholder": "​",
      "style": "IPY_MODEL_6dc937b73756450daec9b3c59e8332b1",
      "value": "Your token has been saved in your configured git credential helpers (store)."
     }
    },
    "4bcce309087643a1982cbf898736e842": {
     "model_module": "@jupyter-widgets/controls",
     "model_module_version": "1.5.0",
     "model_name": "LabelModel",
     "state": {
      "_dom_classes": [],
      "_model_module": "@jupyter-widgets/controls",
      "_model_module_version": "1.5.0",
      "_model_name": "LabelModel",
      "_view_count": null,
      "_view_module": "@jupyter-widgets/controls",
      "_view_module_version": "1.5.0",
      "_view_name": "LabelView",
      "description": "",
      "description_tooltip": null,
      "layout": "IPY_MODEL_f12dfb7c74124ddb8c5339756ed5d14c",
      "placeholder": "​",
      "style": "IPY_MODEL_0d65dee0591c421eaade75278e889de4",
      "value": "Token is valid (permission: write)."
     }
    },
    "4e7672f426674a32adcd749b24d45c6d": {
     "model_module": "@jupyter-widgets/base",
     "model_module_version": "1.2.0",
     "model_name": "LayoutModel",
     "state": {
      "_model_module": "@jupyter-widgets/base",
      "_model_module_version": "1.2.0",
      "_model_name": "LayoutModel",
      "_view_count": null,
      "_view_module": "@jupyter-widgets/base",
      "_view_module_version": "1.2.0",
      "_view_name": "LayoutView",
      "align_content": null,
      "align_items": null,
      "align_self": null,
      "border": null,
      "bottom": null,
      "display": null,
      "flex": null,
      "flex_flow": null,
      "grid_area": null,
      "grid_auto_columns": null,
      "grid_auto_flow": null,
      "grid_auto_rows": null,
      "grid_column": null,
      "grid_gap": null,
      "grid_row": null,
      "grid_template_areas": null,
      "grid_template_columns": null,
      "grid_template_rows": null,
      "height": null,
      "justify_content": null,
      "justify_items": null,
      "left": null,
      "margin": null,
      "max_height": null,
      "max_width": null,
      "min_height": null,
      "min_width": null,
      "object_fit": null,
      "object_position": null,
      "order": null,
      "overflow": null,
      "overflow_x": null,
      "overflow_y": null,
      "padding": null,
      "right": null,
      "top": null,
      "visibility": null,
      "width": null
     }
    },
    "64d2d28c8d294e518d75900b5193cbab": {
     "model_module": "@jupyter-widgets/base",
     "model_module_version": "1.2.0",
     "model_name": "LayoutModel",
     "state": {
      "_model_module": "@jupyter-widgets/base",
      "_model_module_version": "1.2.0",
      "_model_name": "LayoutModel",
      "_view_count": null,
      "_view_module": "@jupyter-widgets/base",
      "_view_module_version": "1.2.0",
      "_view_name": "LayoutView",
      "align_content": null,
      "align_items": null,
      "align_self": null,
      "border": null,
      "bottom": null,
      "display": null,
      "flex": null,
      "flex_flow": null,
      "grid_area": null,
      "grid_auto_columns": null,
      "grid_auto_flow": null,
      "grid_auto_rows": null,
      "grid_column": null,
      "grid_gap": null,
      "grid_row": null,
      "grid_template_areas": null,
      "grid_template_columns": null,
      "grid_template_rows": null,
      "height": null,
      "justify_content": null,
      "justify_items": null,
      "left": null,
      "margin": null,
      "max_height": null,
      "max_width": null,
      "min_height": null,
      "min_width": null,
      "object_fit": null,
      "object_position": null,
      "order": null,
      "overflow": null,
      "overflow_x": null,
      "overflow_y": null,
      "padding": null,
      "right": null,
      "top": null,
      "visibility": null,
      "width": null
     }
    },
    "65ac3f1c152b41c18ef1f95f493b227e": {
     "model_module": "@jupyter-widgets/controls",
     "model_module_version": "1.5.0",
     "model_name": "CheckboxModel",
     "state": {
      "_dom_classes": [],
      "_model_module": "@jupyter-widgets/controls",
      "_model_module_version": "1.5.0",
      "_model_name": "CheckboxModel",
      "_view_count": null,
      "_view_module": "@jupyter-widgets/controls",
      "_view_module_version": "1.5.0",
      "_view_name": "CheckboxView",
      "description": "Add token as git credential?",
      "description_tooltip": null,
      "disabled": false,
      "indent": true,
      "layout": "IPY_MODEL_7d958616100c462b81ba2441e6c9cd16",
      "style": "IPY_MODEL_bc07f5e200c144f0bfc6be1dd67501f6",
      "value": true
     }
    },
    "67878ea260a544baa780e44da6616bea": {
     "model_module": "@jupyter-widgets/base",
     "model_module_version": "1.2.0",
     "model_name": "LayoutModel",
     "state": {
      "_model_module": "@jupyter-widgets/base",
      "_model_module_version": "1.2.0",
      "_model_name": "LayoutModel",
      "_view_count": null,
      "_view_module": "@jupyter-widgets/base",
      "_view_module_version": "1.2.0",
      "_view_name": "LayoutView",
      "align_content": null,
      "align_items": null,
      "align_self": null,
      "border": null,
      "bottom": null,
      "display": null,
      "flex": null,
      "flex_flow": null,
      "grid_area": null,
      "grid_auto_columns": null,
      "grid_auto_flow": null,
      "grid_auto_rows": null,
      "grid_column": null,
      "grid_gap": null,
      "grid_row": null,
      "grid_template_areas": null,
      "grid_template_columns": null,
      "grid_template_rows": null,
      "height": null,
      "justify_content": null,
      "justify_items": null,
      "left": null,
      "margin": null,
      "max_height": null,
      "max_width": null,
      "min_height": null,
      "min_width": null,
      "object_fit": null,
      "object_position": null,
      "order": null,
      "overflow": null,
      "overflow_x": null,
      "overflow_y": null,
      "padding": null,
      "right": null,
      "top": null,
      "visibility": null,
      "width": null
     }
    },
    "67b07c3edb5a41e7adf557a320cd594f": {
     "model_module": "@jupyter-widgets/controls",
     "model_module_version": "1.5.0",
     "model_name": "FloatProgressModel",
     "state": {
      "_dom_classes": [],
      "_model_module": "@jupyter-widgets/controls",
      "_model_module_version": "1.5.0",
      "_model_name": "FloatProgressModel",
      "_view_count": null,
      "_view_module": "@jupyter-widgets/controls",
      "_view_module_version": "1.5.0",
      "_view_name": "ProgressView",
      "bar_style": "success",
      "description": "",
      "description_tooltip": null,
      "layout": "IPY_MODEL_3eed6282686743aa88d26c7415670198",
      "max": 2,
      "min": 0,
      "orientation": "horizontal",
      "style": "IPY_MODEL_927c65b5f12340afb35c073a25854efb",
      "value": 2
     }
    },
    "67c06224c2ab4d299279893dfd9f50c9": {
     "model_module": "@jupyter-widgets/controls",
     "model_module_version": "1.5.0",
     "model_name": "DescriptionStyleModel",
     "state": {
      "_model_module": "@jupyter-widgets/controls",
      "_model_module_version": "1.5.0",
      "_model_name": "DescriptionStyleModel",
      "_view_count": null,
      "_view_module": "@jupyter-widgets/base",
      "_view_module_version": "1.2.0",
      "_view_name": "StyleView",
      "description_width": ""
     }
    },
    "691c9c940faa4d1c8458cd69d4a6314a": {
     "model_module": "@jupyter-widgets/controls",
     "model_module_version": "1.5.0",
     "model_name": "LabelModel",
     "state": {
      "_dom_classes": [],
      "_model_module": "@jupyter-widgets/controls",
      "_model_module_version": "1.5.0",
      "_model_name": "LabelModel",
      "_view_count": null,
      "_view_module": "@jupyter-widgets/controls",
      "_view_module_version": "1.5.0",
      "_view_name": "LabelView",
      "description": "",
      "description_tooltip": null,
      "layout": "IPY_MODEL_dbc54c1695d149c6ae11fbe20f8652df",
      "placeholder": "​",
      "style": "IPY_MODEL_67c06224c2ab4d299279893dfd9f50c9",
      "value": "Connecting..."
     }
    },
    "6d2d1b203e3344d88f5134441ec1b567": {
     "model_module": "@jupyter-widgets/controls",
     "model_module_version": "1.5.0",
     "model_name": "LabelModel",
     "state": {
      "_dom_classes": [],
      "_model_module": "@jupyter-widgets/controls",
      "_model_module_version": "1.5.0",
      "_model_name": "LabelModel",
      "_view_count": null,
      "_view_module": "@jupyter-widgets/controls",
      "_view_module_version": "1.5.0",
      "_view_name": "LabelView",
      "description": "",
      "description_tooltip": null,
      "layout": "IPY_MODEL_754e0c2a4ecb4de895df76e10cde16ef",
      "placeholder": "​",
      "style": "IPY_MODEL_1c408b269a914663bd8c6c00d3b0ed4a",
      "value": "Your token has been saved to /root/.cache/huggingface/token"
     }
    },
    "6dc937b73756450daec9b3c59e8332b1": {
     "model_module": "@jupyter-widgets/controls",
     "model_module_version": "1.5.0",
     "model_name": "DescriptionStyleModel",
     "state": {
      "_model_module": "@jupyter-widgets/controls",
      "_model_module_version": "1.5.0",
      "_model_name": "DescriptionStyleModel",
      "_view_count": null,
      "_view_module": "@jupyter-widgets/base",
      "_view_module_version": "1.2.0",
      "_view_name": "StyleView",
      "description_width": ""
     }
    },
    "754e0c2a4ecb4de895df76e10cde16ef": {
     "model_module": "@jupyter-widgets/base",
     "model_module_version": "1.2.0",
     "model_name": "LayoutModel",
     "state": {
      "_model_module": "@jupyter-widgets/base",
      "_model_module_version": "1.2.0",
      "_model_name": "LayoutModel",
      "_view_count": null,
      "_view_module": "@jupyter-widgets/base",
      "_view_module_version": "1.2.0",
      "_view_name": "LayoutView",
      "align_content": null,
      "align_items": null,
      "align_self": null,
      "border": null,
      "bottom": null,
      "display": null,
      "flex": null,
      "flex_flow": null,
      "grid_area": null,
      "grid_auto_columns": null,
      "grid_auto_flow": null,
      "grid_auto_rows": null,
      "grid_column": null,
      "grid_gap": null,
      "grid_row": null,
      "grid_template_areas": null,
      "grid_template_columns": null,
      "grid_template_rows": null,
      "height": null,
      "justify_content": null,
      "justify_items": null,
      "left": null,
      "margin": null,
      "max_height": null,
      "max_width": null,
      "min_height": null,
      "min_width": null,
      "object_fit": null,
      "object_position": null,
      "order": null,
      "overflow": null,
      "overflow_x": null,
      "overflow_y": null,
      "padding": null,
      "right": null,
      "top": null,
      "visibility": null,
      "width": null
     }
    },
    "7617909aea4e45429c7e03f7cca25fd7": {
     "model_module": "@jupyter-widgets/controls",
     "model_module_version": "1.5.0",
     "model_name": "ButtonModel",
     "state": {
      "_dom_classes": [],
      "_model_module": "@jupyter-widgets/controls",
      "_model_module_version": "1.5.0",
      "_model_name": "ButtonModel",
      "_view_count": null,
      "_view_module": "@jupyter-widgets/controls",
      "_view_module_version": "1.5.0",
      "_view_name": "ButtonView",
      "button_style": "",
      "description": "Login",
      "disabled": false,
      "icon": "",
      "layout": "IPY_MODEL_fd40b11f0ba942ae97d4e2ce376b1e3b",
      "style": "IPY_MODEL_a965c6a74a4d4a17bef4ab2e036abaff",
      "tooltip": ""
     }
    },
    "7688f0b367484ab8b3e4e7359a5642d5": {
     "model_module": "@jupyter-widgets/base",
     "model_module_version": "1.2.0",
     "model_name": "LayoutModel",
     "state": {
      "_model_module": "@jupyter-widgets/base",
      "_model_module_version": "1.2.0",
      "_model_name": "LayoutModel",
      "_view_count": null,
      "_view_module": "@jupyter-widgets/base",
      "_view_module_version": "1.2.0",
      "_view_name": "LayoutView",
      "align_content": null,
      "align_items": null,
      "align_self": null,
      "border": null,
      "bottom": null,
      "display": null,
      "flex": null,
      "flex_flow": null,
      "grid_area": null,
      "grid_auto_columns": null,
      "grid_auto_flow": null,
      "grid_auto_rows": null,
      "grid_column": null,
      "grid_gap": null,
      "grid_row": null,
      "grid_template_areas": null,
      "grid_template_columns": null,
      "grid_template_rows": null,
      "height": null,
      "justify_content": null,
      "justify_items": null,
      "left": null,
      "margin": null,
      "max_height": null,
      "max_width": null,
      "min_height": null,
      "min_width": null,
      "object_fit": null,
      "object_position": null,
      "order": null,
      "overflow": null,
      "overflow_x": null,
      "overflow_y": null,
      "padding": null,
      "right": null,
      "top": null,
      "visibility": null,
      "width": null
     }
    },
    "7696f605258941e291fc4b347e796dc3": {
     "model_module": "@jupyter-widgets/controls",
     "model_module_version": "1.5.0",
     "model_name": "HTMLModel",
     "state": {
      "_dom_classes": [],
      "_model_module": "@jupyter-widgets/controls",
      "_model_module_version": "1.5.0",
      "_model_name": "HTMLModel",
      "_view_count": null,
      "_view_module": "@jupyter-widgets/controls",
      "_view_module_version": "1.5.0",
      "_view_name": "HTMLView",
      "description": "",
      "description_tooltip": null,
      "layout": "IPY_MODEL_913b9c9d13394149a5ac2b25714e53ca",
      "placeholder": "​",
      "style": "IPY_MODEL_2792bfde7dec44b7863fb34dcfd76003",
      "value": "\n<b>Pro Tip:</b> If you don't already have one, you can create a dedicated\n'notebooks' token with 'write' access, that you can then easily reuse for all\nnotebooks. </center>"
     }
    },
    "7d958616100c462b81ba2441e6c9cd16": {
     "model_module": "@jupyter-widgets/base",
     "model_module_version": "1.2.0",
     "model_name": "LayoutModel",
     "state": {
      "_model_module": "@jupyter-widgets/base",
      "_model_module_version": "1.2.0",
      "_model_name": "LayoutModel",
      "_view_count": null,
      "_view_module": "@jupyter-widgets/base",
      "_view_module_version": "1.2.0",
      "_view_name": "LayoutView",
      "align_content": null,
      "align_items": null,
      "align_self": null,
      "border": null,
      "bottom": null,
      "display": null,
      "flex": null,
      "flex_flow": null,
      "grid_area": null,
      "grid_auto_columns": null,
      "grid_auto_flow": null,
      "grid_auto_rows": null,
      "grid_column": null,
      "grid_gap": null,
      "grid_row": null,
      "grid_template_areas": null,
      "grid_template_columns": null,
      "grid_template_rows": null,
      "height": null,
      "justify_content": null,
      "justify_items": null,
      "left": null,
      "margin": null,
      "max_height": null,
      "max_width": null,
      "min_height": null,
      "min_width": null,
      "object_fit": null,
      "object_position": null,
      "order": null,
      "overflow": null,
      "overflow_x": null,
      "overflow_y": null,
      "padding": null,
      "right": null,
      "top": null,
      "visibility": null,
      "width": null
     }
    },
    "8c6d30bc5ada4f6a989ec5cd06a152a3": {
     "model_module": "@jupyter-widgets/controls",
     "model_module_version": "1.5.0",
     "model_name": "HBoxModel",
     "state": {
      "_dom_classes": [],
      "_model_module": "@jupyter-widgets/controls",
      "_model_module_version": "1.5.0",
      "_model_name": "HBoxModel",
      "_view_count": null,
      "_view_module": "@jupyter-widgets/controls",
      "_view_module_version": "1.5.0",
      "_view_name": "HBoxView",
      "box_style": "",
      "children": [
       "IPY_MODEL_8cdda61684e34019af451e5e8d0aba5d",
       "IPY_MODEL_67b07c3edb5a41e7adf557a320cd594f",
       "IPY_MODEL_f5dc0ad331fa4d7f80d8b608b60c9e44"
      ],
      "layout": "IPY_MODEL_f36e66d04b7c48709ae886e78601eaf0"
     }
    },
    "8cdda61684e34019af451e5e8d0aba5d": {
     "model_module": "@jupyter-widgets/controls",
     "model_module_version": "1.5.0",
     "model_name": "HTMLModel",
     "state": {
      "_dom_classes": [],
      "_model_module": "@jupyter-widgets/controls",
      "_model_module_version": "1.5.0",
      "_model_name": "HTMLModel",
      "_view_count": null,
      "_view_module": "@jupyter-widgets/controls",
      "_view_module_version": "1.5.0",
      "_view_name": "HTMLView",
      "description": "",
      "description_tooltip": null,
      "layout": "IPY_MODEL_f0e2ae53f45d4f61a28092303f8c2368",
      "placeholder": "​",
      "style": "IPY_MODEL_ff486779d1754ada97cd7ceb16389967",
      "value": "Upload 2 LFS files: 100%"
     }
    },
    "8d9c72cd5fba4b359595f609918dd618": {
     "model_module": "@jupyter-widgets/base",
     "model_module_version": "1.2.0",
     "model_name": "LayoutModel",
     "state": {
      "_model_module": "@jupyter-widgets/base",
      "_model_module_version": "1.2.0",
      "_model_name": "LayoutModel",
      "_view_count": null,
      "_view_module": "@jupyter-widgets/base",
      "_view_module_version": "1.2.0",
      "_view_name": "LayoutView",
      "align_content": null,
      "align_items": null,
      "align_self": null,
      "border": null,
      "bottom": null,
      "display": null,
      "flex": null,
      "flex_flow": null,
      "grid_area": null,
      "grid_auto_columns": null,
      "grid_auto_flow": null,
      "grid_auto_rows": null,
      "grid_column": null,
      "grid_gap": null,
      "grid_row": null,
      "grid_template_areas": null,
      "grid_template_columns": null,
      "grid_template_rows": null,
      "height": null,
      "justify_content": null,
      "justify_items": null,
      "left": null,
      "margin": null,
      "max_height": null,
      "max_width": null,
      "min_height": null,
      "min_width": null,
      "object_fit": null,
      "object_position": null,
      "order": null,
      "overflow": null,
      "overflow_x": null,
      "overflow_y": null,
      "padding": null,
      "right": null,
      "top": null,
      "visibility": null,
      "width": null
     }
    },
    "913b9c9d13394149a5ac2b25714e53ca": {
     "model_module": "@jupyter-widgets/base",
     "model_module_version": "1.2.0",
     "model_name": "LayoutModel",
     "state": {
      "_model_module": "@jupyter-widgets/base",
      "_model_module_version": "1.2.0",
      "_model_name": "LayoutModel",
      "_view_count": null,
      "_view_module": "@jupyter-widgets/base",
      "_view_module_version": "1.2.0",
      "_view_name": "LayoutView",
      "align_content": null,
      "align_items": null,
      "align_self": null,
      "border": null,
      "bottom": null,
      "display": null,
      "flex": null,
      "flex_flow": null,
      "grid_area": null,
      "grid_auto_columns": null,
      "grid_auto_flow": null,
      "grid_auto_rows": null,
      "grid_column": null,
      "grid_gap": null,
      "grid_row": null,
      "grid_template_areas": null,
      "grid_template_columns": null,
      "grid_template_rows": null,
      "height": null,
      "justify_content": null,
      "justify_items": null,
      "left": null,
      "margin": null,
      "max_height": null,
      "max_width": null,
      "min_height": null,
      "min_width": null,
      "object_fit": null,
      "object_position": null,
      "order": null,
      "overflow": null,
      "overflow_x": null,
      "overflow_y": null,
      "padding": null,
      "right": null,
      "top": null,
      "visibility": null,
      "width": null
     }
    },
    "927c65b5f12340afb35c073a25854efb": {
     "model_module": "@jupyter-widgets/controls",
     "model_module_version": "1.5.0",
     "model_name": "ProgressStyleModel",
     "state": {
      "_model_module": "@jupyter-widgets/controls",
      "_model_module_version": "1.5.0",
      "_model_name": "ProgressStyleModel",
      "_view_count": null,
      "_view_module": "@jupyter-widgets/base",
      "_view_module_version": "1.2.0",
      "_view_name": "StyleView",
      "bar_color": null,
      "description_width": ""
     }
    },
    "97a1ba6ceea74b89b6a482d629d8881c": {
     "model_module": "@jupyter-widgets/controls",
     "model_module_version": "1.5.0",
     "model_name": "HBoxModel",
     "state": {
      "_dom_classes": [],
      "_model_module": "@jupyter-widgets/controls",
      "_model_module_version": "1.5.0",
      "_model_name": "HBoxModel",
      "_view_count": null,
      "_view_module": "@jupyter-widgets/controls",
      "_view_module_version": "1.5.0",
      "_view_name": "HBoxView",
      "box_style": "",
      "children": [
       "IPY_MODEL_35560bdfb97343759e8b194f343e7377",
       "IPY_MODEL_e253b23702bb498ca25ce8d54a33e795",
       "IPY_MODEL_311ee09963c646f8866fed7251954c10"
      ],
      "layout": "IPY_MODEL_e0d645e8ccd3452481e7676bf34b06f1"
     }
    },
    "a0c9daf9dad84703bd57e30b02b6c362": {
     "model_module": "@jupyter-widgets/base",
     "model_module_version": "1.2.0",
     "model_name": "LayoutModel",
     "state": {
      "_model_module": "@jupyter-widgets/base",
      "_model_module_version": "1.2.0",
      "_model_name": "LayoutModel",
      "_view_count": null,
      "_view_module": "@jupyter-widgets/base",
      "_view_module_version": "1.2.0",
      "_view_name": "LayoutView",
      "align_content": null,
      "align_items": null,
      "align_self": null,
      "border": null,
      "bottom": null,
      "display": null,
      "flex": null,
      "flex_flow": null,
      "grid_area": null,
      "grid_auto_columns": null,
      "grid_auto_flow": null,
      "grid_auto_rows": null,
      "grid_column": null,
      "grid_gap": null,
      "grid_row": null,
      "grid_template_areas": null,
      "grid_template_columns": null,
      "grid_template_rows": null,
      "height": null,
      "justify_content": null,
      "justify_items": null,
      "left": null,
      "margin": null,
      "max_height": null,
      "max_width": null,
      "min_height": null,
      "min_width": null,
      "object_fit": null,
      "object_position": null,
      "order": null,
      "overflow": null,
      "overflow_x": null,
      "overflow_y": null,
      "padding": null,
      "right": null,
      "top": null,
      "visibility": null,
      "width": null
     }
    },
    "a965c6a74a4d4a17bef4ab2e036abaff": {
     "model_module": "@jupyter-widgets/controls",
     "model_module_version": "1.5.0",
     "model_name": "ButtonStyleModel",
     "state": {
      "_model_module": "@jupyter-widgets/controls",
      "_model_module_version": "1.5.0",
      "_model_name": "ButtonStyleModel",
      "_view_count": null,
      "_view_module": "@jupyter-widgets/base",
      "_view_module_version": "1.2.0",
      "_view_name": "StyleView",
      "button_color": null,
      "font_weight": ""
     }
    },
    "ab566bdbbd564393a5355afb61470a2a": {
     "model_module": "@jupyter-widgets/controls",
     "model_module_version": "1.5.0",
     "model_name": "DescriptionStyleModel",
     "state": {
      "_model_module": "@jupyter-widgets/controls",
      "_model_module_version": "1.5.0",
      "_model_name": "DescriptionStyleModel",
      "_view_count": null,
      "_view_module": "@jupyter-widgets/base",
      "_view_module_version": "1.2.0",
      "_view_name": "StyleView",
      "description_width": ""
     }
    },
    "b25775e2ed9142b79e16556dfa8e44b7": {
     "model_module": "@jupyter-widgets/controls",
     "model_module_version": "1.5.0",
     "model_name": "ProgressStyleModel",
     "state": {
      "_model_module": "@jupyter-widgets/controls",
      "_model_module_version": "1.5.0",
      "_model_name": "ProgressStyleModel",
      "_view_count": null,
      "_view_module": "@jupyter-widgets/base",
      "_view_module_version": "1.2.0",
      "_view_name": "StyleView",
      "bar_color": null,
      "description_width": ""
     }
    },
    "baea74c5772849778d1d06bb3edc275e": {
     "model_module": "@jupyter-widgets/controls",
     "model_module_version": "1.5.0",
     "model_name": "HTMLModel",
     "state": {
      "_dom_classes": [],
      "_model_module": "@jupyter-widgets/controls",
      "_model_module_version": "1.5.0",
      "_model_name": "HTMLModel",
      "_view_count": null,
      "_view_module": "@jupyter-widgets/controls",
      "_view_module_version": "1.5.0",
      "_view_name": "HTMLView",
      "description": "",
      "description_tooltip": null,
      "layout": "IPY_MODEL_a0c9daf9dad84703bd57e30b02b6c362",
      "placeholder": "​",
      "style": "IPY_MODEL_cb7ec37a494344278e5dcede2409fec8",
      "value": "<center> <img\nsrc=https://huggingface.co/front/assets/huggingface_logo-noborder.svg\nalt='Hugging Face'> <br> Copy a token from <a\nhref=\"https://huggingface.co/settings/tokens\" target=\"_blank\">your Hugging Face\ntokens page</a> and paste it below. <br> Immediately click login after copying\nyour token or it might be stored in plain text in this notebook file. </center>"
     }
    },
    "bc07f5e200c144f0bfc6be1dd67501f6": {
     "model_module": "@jupyter-widgets/controls",
     "model_module_version": "1.5.0",
     "model_name": "DescriptionStyleModel",
     "state": {
      "_model_module": "@jupyter-widgets/controls",
      "_model_module_version": "1.5.0",
      "_model_name": "DescriptionStyleModel",
      "_view_count": null,
      "_view_module": "@jupyter-widgets/base",
      "_view_module_version": "1.2.0",
      "_view_name": "StyleView",
      "description_width": ""
     }
    },
    "c0f5db8683a54051ba8e09c18b937735": {
     "model_module": "@jupyter-widgets/controls",
     "model_module_version": "1.5.0",
     "model_name": "DescriptionStyleModel",
     "state": {
      "_model_module": "@jupyter-widgets/controls",
      "_model_module_version": "1.5.0",
      "_model_name": "DescriptionStyleModel",
      "_view_count": null,
      "_view_module": "@jupyter-widgets/base",
      "_view_module_version": "1.2.0",
      "_view_name": "StyleView",
      "description_width": ""
     }
    },
    "c32973a22ccd4f6bb4e54a47a1171065": {
     "model_module": "@jupyter-widgets/base",
     "model_module_version": "1.2.0",
     "model_name": "LayoutModel",
     "state": {
      "_model_module": "@jupyter-widgets/base",
      "_model_module_version": "1.2.0",
      "_model_name": "LayoutModel",
      "_view_count": null,
      "_view_module": "@jupyter-widgets/base",
      "_view_module_version": "1.2.0",
      "_view_name": "LayoutView",
      "align_content": null,
      "align_items": null,
      "align_self": null,
      "border": null,
      "bottom": null,
      "display": null,
      "flex": null,
      "flex_flow": null,
      "grid_area": null,
      "grid_auto_columns": null,
      "grid_auto_flow": null,
      "grid_auto_rows": null,
      "grid_column": null,
      "grid_gap": null,
      "grid_row": null,
      "grid_template_areas": null,
      "grid_template_columns": null,
      "grid_template_rows": null,
      "height": null,
      "justify_content": null,
      "justify_items": null,
      "left": null,
      "margin": null,
      "max_height": null,
      "max_width": null,
      "min_height": null,
      "min_width": null,
      "object_fit": null,
      "object_position": null,
      "order": null,
      "overflow": null,
      "overflow_x": null,
      "overflow_y": null,
      "padding": null,
      "right": null,
      "top": null,
      "visibility": null,
      "width": null
     }
    },
    "cb7ec37a494344278e5dcede2409fec8": {
     "model_module": "@jupyter-widgets/controls",
     "model_module_version": "1.5.0",
     "model_name": "DescriptionStyleModel",
     "state": {
      "_model_module": "@jupyter-widgets/controls",
      "_model_module_version": "1.5.0",
      "_model_name": "DescriptionStyleModel",
      "_view_count": null,
      "_view_module": "@jupyter-widgets/base",
      "_view_module_version": "1.2.0",
      "_view_name": "StyleView",
      "description_width": ""
     }
    },
    "cbb8e24978294ea0a9ee3e3e637d4c6f": {
     "model_module": "@jupyter-widgets/controls",
     "model_module_version": "1.5.0",
     "model_name": "PasswordModel",
     "state": {
      "_dom_classes": [],
      "_model_module": "@jupyter-widgets/controls",
      "_model_module_version": "1.5.0",
      "_model_name": "PasswordModel",
      "_view_count": null,
      "_view_module": "@jupyter-widgets/controls",
      "_view_module_version": "1.5.0",
      "_view_name": "PasswordView",
      "continuous_update": true,
      "description": "Token:",
      "description_tooltip": null,
      "disabled": false,
      "layout": "IPY_MODEL_0ebe55af4f694e12997eba593291c69d",
      "placeholder": "​",
      "style": "IPY_MODEL_fcf67a330d7f4c03815abb9b50664256",
      "value": ""
     }
    },
    "d37f751babc649bfac92a80d2fef5b87": {
     "model_module": "@jupyter-widgets/base",
     "model_module_version": "1.2.0",
     "model_name": "LayoutModel",
     "state": {
      "_model_module": "@jupyter-widgets/base",
      "_model_module_version": "1.2.0",
      "_model_name": "LayoutModel",
      "_view_count": null,
      "_view_module": "@jupyter-widgets/base",
      "_view_module_version": "1.2.0",
      "_view_name": "LayoutView",
      "align_content": null,
      "align_items": "center",
      "align_self": null,
      "border": null,
      "bottom": null,
      "display": "flex",
      "flex": null,
      "flex_flow": "column",
      "grid_area": null,
      "grid_auto_columns": null,
      "grid_auto_flow": null,
      "grid_auto_rows": null,
      "grid_column": null,
      "grid_gap": null,
      "grid_row": null,
      "grid_template_areas": null,
      "grid_template_columns": null,
      "grid_template_rows": null,
      "height": null,
      "justify_content": null,
      "justify_items": null,
      "left": null,
      "margin": null,
      "max_height": null,
      "max_width": null,
      "min_height": null,
      "min_width": null,
      "object_fit": null,
      "object_position": null,
      "order": null,
      "overflow": null,
      "overflow_x": null,
      "overflow_y": null,
      "padding": null,
      "right": null,
      "top": null,
      "visibility": null,
      "width": "50%"
     }
    },
    "dbc54c1695d149c6ae11fbe20f8652df": {
     "model_module": "@jupyter-widgets/base",
     "model_module_version": "1.2.0",
     "model_name": "LayoutModel",
     "state": {
      "_model_module": "@jupyter-widgets/base",
      "_model_module_version": "1.2.0",
      "_model_name": "LayoutModel",
      "_view_count": null,
      "_view_module": "@jupyter-widgets/base",
      "_view_module_version": "1.2.0",
      "_view_name": "LayoutView",
      "align_content": null,
      "align_items": null,
      "align_self": null,
      "border": null,
      "bottom": null,
      "display": null,
      "flex": null,
      "flex_flow": null,
      "grid_area": null,
      "grid_auto_columns": null,
      "grid_auto_flow": null,
      "grid_auto_rows": null,
      "grid_column": null,
      "grid_gap": null,
      "grid_row": null,
      "grid_template_areas": null,
      "grid_template_columns": null,
      "grid_template_rows": null,
      "height": null,
      "justify_content": null,
      "justify_items": null,
      "left": null,
      "margin": null,
      "max_height": null,
      "max_width": null,
      "min_height": null,
      "min_width": null,
      "object_fit": null,
      "object_position": null,
      "order": null,
      "overflow": null,
      "overflow_x": null,
      "overflow_y": null,
      "padding": null,
      "right": null,
      "top": null,
      "visibility": null,
      "width": null
     }
    },
    "de95f370a2644d79a1b18692393daed9": {
     "model_module": "@jupyter-widgets/controls",
     "model_module_version": "1.5.0",
     "model_name": "HTMLModel",
     "state": {
      "_dom_classes": [],
      "_model_module": "@jupyter-widgets/controls",
      "_model_module_version": "1.5.0",
      "_model_name": "HTMLModel",
      "_view_count": null,
      "_view_module": "@jupyter-widgets/controls",
      "_view_module_version": "1.5.0",
      "_view_name": "HTMLView",
      "description": "",
      "description_tooltip": null,
      "layout": "IPY_MODEL_c32973a22ccd4f6bb4e54a47a1171065",
      "placeholder": "​",
      "style": "IPY_MODEL_fca263ee57744f4d8d451715904d9790",
      "value": "dqn-LunarLander-v2.zip: 100%"
     }
    },
    "e0d645e8ccd3452481e7676bf34b06f1": {
     "model_module": "@jupyter-widgets/base",
     "model_module_version": "1.2.0",
     "model_name": "LayoutModel",
     "state": {
      "_model_module": "@jupyter-widgets/base",
      "_model_module_version": "1.2.0",
      "_model_name": "LayoutModel",
      "_view_count": null,
      "_view_module": "@jupyter-widgets/base",
      "_view_module_version": "1.2.0",
      "_view_name": "LayoutView",
      "align_content": null,
      "align_items": null,
      "align_self": null,
      "border": null,
      "bottom": null,
      "display": null,
      "flex": null,
      "flex_flow": null,
      "grid_area": null,
      "grid_auto_columns": null,
      "grid_auto_flow": null,
      "grid_auto_rows": null,
      "grid_column": null,
      "grid_gap": null,
      "grid_row": null,
      "grid_template_areas": null,
      "grid_template_columns": null,
      "grid_template_rows": null,
      "height": null,
      "justify_content": null,
      "justify_items": null,
      "left": null,
      "margin": null,
      "max_height": null,
      "max_width": null,
      "min_height": null,
      "min_width": null,
      "object_fit": null,
      "object_position": null,
      "order": null,
      "overflow": null,
      "overflow_x": null,
      "overflow_y": null,
      "padding": null,
      "right": null,
      "top": null,
      "visibility": null,
      "width": null
     }
    },
    "e253b23702bb498ca25ce8d54a33e795": {
     "model_module": "@jupyter-widgets/controls",
     "model_module_version": "1.5.0",
     "model_name": "FloatProgressModel",
     "state": {
      "_dom_classes": [],
      "_model_module": "@jupyter-widgets/controls",
      "_model_module_version": "1.5.0",
      "_model_name": "FloatProgressModel",
      "_view_count": null,
      "_view_module": "@jupyter-widgets/controls",
      "_view_module_version": "1.5.0",
      "_view_name": "ProgressView",
      "bar_style": "success",
      "description": "",
      "description_tooltip": null,
      "layout": "IPY_MODEL_67878ea260a544baa780e44da6616bea",
      "max": 146324,
      "min": 0,
      "orientation": "horizontal",
      "style": "IPY_MODEL_b25775e2ed9142b79e16556dfa8e44b7",
      "value": 146324
     }
    },
    "f0e2ae53f45d4f61a28092303f8c2368": {
     "model_module": "@jupyter-widgets/base",
     "model_module_version": "1.2.0",
     "model_name": "LayoutModel",
     "state": {
      "_model_module": "@jupyter-widgets/base",
      "_model_module_version": "1.2.0",
      "_model_name": "LayoutModel",
      "_view_count": null,
      "_view_module": "@jupyter-widgets/base",
      "_view_module_version": "1.2.0",
      "_view_name": "LayoutView",
      "align_content": null,
      "align_items": null,
      "align_self": null,
      "border": null,
      "bottom": null,
      "display": null,
      "flex": null,
      "flex_flow": null,
      "grid_area": null,
      "grid_auto_columns": null,
      "grid_auto_flow": null,
      "grid_auto_rows": null,
      "grid_column": null,
      "grid_gap": null,
      "grid_row": null,
      "grid_template_areas": null,
      "grid_template_columns": null,
      "grid_template_rows": null,
      "height": null,
      "justify_content": null,
      "justify_items": null,
      "left": null,
      "margin": null,
      "max_height": null,
      "max_width": null,
      "min_height": null,
      "min_width": null,
      "object_fit": null,
      "object_position": null,
      "order": null,
      "overflow": null,
      "overflow_x": null,
      "overflow_y": null,
      "padding": null,
      "right": null,
      "top": null,
      "visibility": null,
      "width": null
     }
    },
    "f12dfb7c74124ddb8c5339756ed5d14c": {
     "model_module": "@jupyter-widgets/base",
     "model_module_version": "1.2.0",
     "model_name": "LayoutModel",
     "state": {
      "_model_module": "@jupyter-widgets/base",
      "_model_module_version": "1.2.0",
      "_model_name": "LayoutModel",
      "_view_count": null,
      "_view_module": "@jupyter-widgets/base",
      "_view_module_version": "1.2.0",
      "_view_name": "LayoutView",
      "align_content": null,
      "align_items": null,
      "align_self": null,
      "border": null,
      "bottom": null,
      "display": null,
      "flex": null,
      "flex_flow": null,
      "grid_area": null,
      "grid_auto_columns": null,
      "grid_auto_flow": null,
      "grid_auto_rows": null,
      "grid_column": null,
      "grid_gap": null,
      "grid_row": null,
      "grid_template_areas": null,
      "grid_template_columns": null,
      "grid_template_rows": null,
      "height": null,
      "justify_content": null,
      "justify_items": null,
      "left": null,
      "margin": null,
      "max_height": null,
      "max_width": null,
      "min_height": null,
      "min_width": null,
      "object_fit": null,
      "object_position": null,
      "order": null,
      "overflow": null,
      "overflow_x": null,
      "overflow_y": null,
      "padding": null,
      "right": null,
      "top": null,
      "visibility": null,
      "width": null
     }
    },
    "f19dfe5c1b2848de96a3d3601916cc7c": {
     "model_module": "@jupyter-widgets/base",
     "model_module_version": "1.2.0",
     "model_name": "LayoutModel",
     "state": {
      "_model_module": "@jupyter-widgets/base",
      "_model_module_version": "1.2.0",
      "_model_name": "LayoutModel",
      "_view_count": null,
      "_view_module": "@jupyter-widgets/base",
      "_view_module_version": "1.2.0",
      "_view_name": "LayoutView",
      "align_content": null,
      "align_items": null,
      "align_self": null,
      "border": null,
      "bottom": null,
      "display": null,
      "flex": null,
      "flex_flow": null,
      "grid_area": null,
      "grid_auto_columns": null,
      "grid_auto_flow": null,
      "grid_auto_rows": null,
      "grid_column": null,
      "grid_gap": null,
      "grid_row": null,
      "grid_template_areas": null,
      "grid_template_columns": null,
      "grid_template_rows": null,
      "height": null,
      "justify_content": null,
      "justify_items": null,
      "left": null,
      "margin": null,
      "max_height": null,
      "max_width": null,
      "min_height": null,
      "min_width": null,
      "object_fit": null,
      "object_position": null,
      "order": null,
      "overflow": null,
      "overflow_x": null,
      "overflow_y": null,
      "padding": null,
      "right": null,
      "top": null,
      "visibility": null,
      "width": null
     }
    },
    "f36e66d04b7c48709ae886e78601eaf0": {
     "model_module": "@jupyter-widgets/base",
     "model_module_version": "1.2.0",
     "model_name": "LayoutModel",
     "state": {
      "_model_module": "@jupyter-widgets/base",
      "_model_module_version": "1.2.0",
      "_model_name": "LayoutModel",
      "_view_count": null,
      "_view_module": "@jupyter-widgets/base",
      "_view_module_version": "1.2.0",
      "_view_name": "LayoutView",
      "align_content": null,
      "align_items": null,
      "align_self": null,
      "border": null,
      "bottom": null,
      "display": null,
      "flex": null,
      "flex_flow": null,
      "grid_area": null,
      "grid_auto_columns": null,
      "grid_auto_flow": null,
      "grid_auto_rows": null,
      "grid_column": null,
      "grid_gap": null,
      "grid_row": null,
      "grid_template_areas": null,
      "grid_template_columns": null,
      "grid_template_rows": null,
      "height": null,
      "justify_content": null,
      "justify_items": null,
      "left": null,
      "margin": null,
      "max_height": null,
      "max_width": null,
      "min_height": null,
      "min_width": null,
      "object_fit": null,
      "object_position": null,
      "order": null,
      "overflow": null,
      "overflow_x": null,
      "overflow_y": null,
      "padding": null,
      "right": null,
      "top": null,
      "visibility": null,
      "width": null
     }
    },
    "f5dc0ad331fa4d7f80d8b608b60c9e44": {
     "model_module": "@jupyter-widgets/controls",
     "model_module_version": "1.5.0",
     "model_name": "HTMLModel",
     "state": {
      "_dom_classes": [],
      "_model_module": "@jupyter-widgets/controls",
      "_model_module_version": "1.5.0",
      "_model_name": "HTMLModel",
      "_view_count": null,
      "_view_module": "@jupyter-widgets/controls",
      "_view_module_version": "1.5.0",
      "_view_name": "HTMLView",
      "description": "",
      "description_tooltip": null,
      "layout": "IPY_MODEL_18b620a0db8e43db8674d0b7899ea788",
      "placeholder": "​",
      "style": "IPY_MODEL_ab566bdbbd564393a5355afb61470a2a",
      "value": " 2/2 [00:00&lt;00:00,  2.41it/s]"
     }
    },
    "faedbb1b2bda4fdaaae073b2328b6662": {
     "model_module": "@jupyter-widgets/controls",
     "model_module_version": "1.5.0",
     "model_name": "VBoxModel",
     "state": {
      "_dom_classes": [],
      "_model_module": "@jupyter-widgets/controls",
      "_model_module_version": "1.5.0",
      "_model_name": "VBoxModel",
      "_view_count": null,
      "_view_module": "@jupyter-widgets/controls",
      "_view_module_version": "1.5.0",
      "_view_name": "VBoxView",
      "box_style": "",
      "children": [
       "IPY_MODEL_4bcce309087643a1982cbf898736e842",
       "IPY_MODEL_4a82c737e0984deb9e3bffe62e94d60b",
       "IPY_MODEL_6d2d1b203e3344d88f5134441ec1b567",
       "IPY_MODEL_1d1efa33832e45c98a2c7bcb5e1164eb"
      ],
      "layout": "IPY_MODEL_d37f751babc649bfac92a80d2fef5b87"
     }
    },
    "fca263ee57744f4d8d451715904d9790": {
     "model_module": "@jupyter-widgets/controls",
     "model_module_version": "1.5.0",
     "model_name": "DescriptionStyleModel",
     "state": {
      "_model_module": "@jupyter-widgets/controls",
      "_model_module_version": "1.5.0",
      "_model_name": "DescriptionStyleModel",
      "_view_count": null,
      "_view_module": "@jupyter-widgets/base",
      "_view_module_version": "1.2.0",
      "_view_name": "StyleView",
      "description_width": ""
     }
    },
    "fcf67a330d7f4c03815abb9b50664256": {
     "model_module": "@jupyter-widgets/controls",
     "model_module_version": "1.5.0",
     "model_name": "DescriptionStyleModel",
     "state": {
      "_model_module": "@jupyter-widgets/controls",
      "_model_module_version": "1.5.0",
      "_model_name": "DescriptionStyleModel",
      "_view_count": null,
      "_view_module": "@jupyter-widgets/base",
      "_view_module_version": "1.2.0",
      "_view_name": "StyleView",
      "description_width": ""
     }
    },
    "fd40b11f0ba942ae97d4e2ce376b1e3b": {
     "model_module": "@jupyter-widgets/base",
     "model_module_version": "1.2.0",
     "model_name": "LayoutModel",
     "state": {
      "_model_module": "@jupyter-widgets/base",
      "_model_module_version": "1.2.0",
      "_model_name": "LayoutModel",
      "_view_count": null,
      "_view_module": "@jupyter-widgets/base",
      "_view_module_version": "1.2.0",
      "_view_name": "LayoutView",
      "align_content": null,
      "align_items": null,
      "align_self": null,
      "border": null,
      "bottom": null,
      "display": null,
      "flex": null,
      "flex_flow": null,
      "grid_area": null,
      "grid_auto_columns": null,
      "grid_auto_flow": null,
      "grid_auto_rows": null,
      "grid_column": null,
      "grid_gap": null,
      "grid_row": null,
      "grid_template_areas": null,
      "grid_template_columns": null,
      "grid_template_rows": null,
      "height": null,
      "justify_content": null,
      "justify_items": null,
      "left": null,
      "margin": null,
      "max_height": null,
      "max_width": null,
      "min_height": null,
      "min_width": null,
      "object_fit": null,
      "object_position": null,
      "order": null,
      "overflow": null,
      "overflow_x": null,
      "overflow_y": null,
      "padding": null,
      "right": null,
      "top": null,
      "visibility": null,
      "width": null
     }
    },
    "fd7a614d07bd4c629f419965961730f8": {
     "model_module": "@jupyter-widgets/controls",
     "model_module_version": "1.5.0",
     "model_name": "FloatProgressModel",
     "state": {
      "_dom_classes": [],
      "_model_module": "@jupyter-widgets/controls",
      "_model_module_version": "1.5.0",
      "_model_name": "FloatProgressModel",
      "_view_count": null,
      "_view_module": "@jupyter-widgets/controls",
      "_view_module_version": "1.5.0",
      "_view_name": "ProgressView",
      "bar_style": "success",
      "description": "",
      "description_tooltip": null,
      "layout": "IPY_MODEL_7688f0b367484ab8b3e4e7359a5642d5",
      "max": 105421,
      "min": 0,
      "orientation": "horizontal",
      "style": "IPY_MODEL_06ada10b2c264218896da24f6857fecc",
      "value": 105421
     }
    },
    "ff486779d1754ada97cd7ceb16389967": {
     "model_module": "@jupyter-widgets/controls",
     "model_module_version": "1.5.0",
     "model_name": "DescriptionStyleModel",
     "state": {
      "_model_module": "@jupyter-widgets/controls",
      "_model_module_version": "1.5.0",
      "_model_name": "DescriptionStyleModel",
      "_view_count": null,
      "_view_module": "@jupyter-widgets/base",
      "_view_module_version": "1.2.0",
      "_view_name": "StyleView",
      "description_width": ""
     }
    }
   }
  }
 },
 "nbformat": 4,
 "nbformat_minor": 4
}
